{
 "cells": [
  {
   "cell_type": "markdown",
   "id": "42be2c8c-cdb1-4d0c-bc72-06647cd61e05",
   "metadata": {},
   "source": [
    "# STOCK PRICE PREDICTION AND FORECASTING USING STACKED LSTM"
   ]
  },
  {
   "cell_type": "markdown",
   "id": "d8a50b4e-284c-434b-84b7-6a4d9ac58886",
   "metadata": {},
   "source": [
    "# Data Collection"
   ]
  },
  {
   "cell_type": "code",
   "execution_count": 1,
   "id": "8775a957-61f4-4dcd-a237-c8a116715237",
   "metadata": {},
   "outputs": [],
   "source": [
    "import os\n",
    "import pandas_datareader as pdr\n",
    "import pandas as pd"
   ]
  },
  {
   "cell_type": "code",
   "execution_count": 2,
   "id": "c894540b-849a-42cd-aafd-36330da6fcbd",
   "metadata": {},
   "outputs": [],
   "source": [
    "from tiingo import TiingoClient\n",
    "config = {\n",
    "    'api_key': '514d5935080d21e3c8b3de83a62d90e80f4f0041'\n",
    "}\n",
    "\n",
    "# Initialize TiingoClient with the API key\n",
    "client = TiingoClient(config)\n",
    "\n",
    "# Fetch the data for AAPL\n",
    "ticker = \"AAPL\"\n",
    "df = client.get_dataframe(ticker,\n",
    "                          startDate='2020-01-01',\n",
    "                          endDate='2024-01-01')"
   ]
  },
  {
   "cell_type": "code",
   "execution_count": 3,
   "id": "f2869a2c-8b31-487f-8d14-1cc5dd04de92",
   "metadata": {},
   "outputs": [],
   "source": [
    "df.to_csv('AAPL.csv')"
   ]
  },
  {
   "cell_type": "code",
   "execution_count": 4,
   "id": "71c1dd83-e3bd-426c-ace2-78b46a166c68",
   "metadata": {},
   "outputs": [
    {
     "data": {
      "text/html": [
       "<div>\n",
       "<style scoped>\n",
       "    .dataframe tbody tr th:only-of-type {\n",
       "        vertical-align: middle;\n",
       "    }\n",
       "\n",
       "    .dataframe tbody tr th {\n",
       "        vertical-align: top;\n",
       "    }\n",
       "\n",
       "    .dataframe thead th {\n",
       "        text-align: right;\n",
       "    }\n",
       "</style>\n",
       "<table border=\"1\" class=\"dataframe\">\n",
       "  <thead>\n",
       "    <tr style=\"text-align: right;\">\n",
       "      <th></th>\n",
       "      <th>close</th>\n",
       "      <th>high</th>\n",
       "      <th>low</th>\n",
       "      <th>open</th>\n",
       "      <th>volume</th>\n",
       "      <th>adjClose</th>\n",
       "      <th>adjHigh</th>\n",
       "      <th>adjLow</th>\n",
       "      <th>adjOpen</th>\n",
       "      <th>adjVolume</th>\n",
       "      <th>divCash</th>\n",
       "      <th>splitFactor</th>\n",
       "    </tr>\n",
       "    <tr>\n",
       "      <th>date</th>\n",
       "      <th></th>\n",
       "      <th></th>\n",
       "      <th></th>\n",
       "      <th></th>\n",
       "      <th></th>\n",
       "      <th></th>\n",
       "      <th></th>\n",
       "      <th></th>\n",
       "      <th></th>\n",
       "      <th></th>\n",
       "      <th></th>\n",
       "      <th></th>\n",
       "    </tr>\n",
       "  </thead>\n",
       "  <tbody>\n",
       "    <tr>\n",
       "      <th>2020-01-02 00:00:00+00:00</th>\n",
       "      <td>300.35</td>\n",
       "      <td>300.60</td>\n",
       "      <td>295.19</td>\n",
       "      <td>296.24</td>\n",
       "      <td>33911864</td>\n",
       "      <td>72.961236</td>\n",
       "      <td>73.021966</td>\n",
       "      <td>71.707765</td>\n",
       "      <td>71.962832</td>\n",
       "      <td>135647456</td>\n",
       "      <td>0.0</td>\n",
       "      <td>1.0</td>\n",
       "    </tr>\n",
       "    <tr>\n",
       "      <th>2020-01-03 00:00:00+00:00</th>\n",
       "      <td>297.43</td>\n",
       "      <td>300.58</td>\n",
       "      <td>296.50</td>\n",
       "      <td>297.15</td>\n",
       "      <td>36633878</td>\n",
       "      <td>72.251907</td>\n",
       "      <td>73.017108</td>\n",
       "      <td>72.025991</td>\n",
       "      <td>72.183890</td>\n",
       "      <td>146535512</td>\n",
       "      <td>0.0</td>\n",
       "      <td>1.0</td>\n",
       "    </tr>\n",
       "    <tr>\n",
       "      <th>2020-01-06 00:00:00+00:00</th>\n",
       "      <td>299.80</td>\n",
       "      <td>299.96</td>\n",
       "      <td>292.75</td>\n",
       "      <td>293.79</td>\n",
       "      <td>29644644</td>\n",
       "      <td>72.827630</td>\n",
       "      <td>72.866497</td>\n",
       "      <td>71.115039</td>\n",
       "      <td>71.367676</td>\n",
       "      <td>118578576</td>\n",
       "      <td>0.0</td>\n",
       "      <td>1.0</td>\n",
       "    </tr>\n",
       "    <tr>\n",
       "      <th>2020-01-07 00:00:00+00:00</th>\n",
       "      <td>298.39</td>\n",
       "      <td>300.90</td>\n",
       "      <td>297.48</td>\n",
       "      <td>299.84</td>\n",
       "      <td>27877655</td>\n",
       "      <td>72.485111</td>\n",
       "      <td>73.094842</td>\n",
       "      <td>72.264053</td>\n",
       "      <td>72.837346</td>\n",
       "      <td>111510620</td>\n",
       "      <td>0.0</td>\n",
       "      <td>1.0</td>\n",
       "    </tr>\n",
       "    <tr>\n",
       "      <th>2020-01-08 00:00:00+00:00</th>\n",
       "      <td>303.19</td>\n",
       "      <td>304.44</td>\n",
       "      <td>297.16</td>\n",
       "      <td>297.16</td>\n",
       "      <td>33090946</td>\n",
       "      <td>73.651131</td>\n",
       "      <td>73.954782</td>\n",
       "      <td>72.186319</td>\n",
       "      <td>72.186319</td>\n",
       "      <td>132363784</td>\n",
       "      <td>0.0</td>\n",
       "      <td>1.0</td>\n",
       "    </tr>\n",
       "  </tbody>\n",
       "</table>\n",
       "</div>"
      ],
      "text/plain": [
       "                            close    high     low    open    volume  \\\n",
       "date                                                                  \n",
       "2020-01-02 00:00:00+00:00  300.35  300.60  295.19  296.24  33911864   \n",
       "2020-01-03 00:00:00+00:00  297.43  300.58  296.50  297.15  36633878   \n",
       "2020-01-06 00:00:00+00:00  299.80  299.96  292.75  293.79  29644644   \n",
       "2020-01-07 00:00:00+00:00  298.39  300.90  297.48  299.84  27877655   \n",
       "2020-01-08 00:00:00+00:00  303.19  304.44  297.16  297.16  33090946   \n",
       "\n",
       "                            adjClose    adjHigh     adjLow    adjOpen  \\\n",
       "date                                                                    \n",
       "2020-01-02 00:00:00+00:00  72.961236  73.021966  71.707765  71.962832   \n",
       "2020-01-03 00:00:00+00:00  72.251907  73.017108  72.025991  72.183890   \n",
       "2020-01-06 00:00:00+00:00  72.827630  72.866497  71.115039  71.367676   \n",
       "2020-01-07 00:00:00+00:00  72.485111  73.094842  72.264053  72.837346   \n",
       "2020-01-08 00:00:00+00:00  73.651131  73.954782  72.186319  72.186319   \n",
       "\n",
       "                           adjVolume  divCash  splitFactor  \n",
       "date                                                        \n",
       "2020-01-02 00:00:00+00:00  135647456      0.0          1.0  \n",
       "2020-01-03 00:00:00+00:00  146535512      0.0          1.0  \n",
       "2020-01-06 00:00:00+00:00  118578576      0.0          1.0  \n",
       "2020-01-07 00:00:00+00:00  111510620      0.0          1.0  \n",
       "2020-01-08 00:00:00+00:00  132363784      0.0          1.0  "
      ]
     },
     "execution_count": 4,
     "metadata": {},
     "output_type": "execute_result"
    }
   ],
   "source": [
    "# Showing the first 5 rows in the dataset\n",
    "df.head()"
   ]
  },
  {
   "cell_type": "code",
   "execution_count": 5,
   "id": "99ae29e1-63ef-450a-9470-0434d5d741e8",
   "metadata": {},
   "outputs": [
    {
     "data": {
      "text/html": [
       "<div>\n",
       "<style scoped>\n",
       "    .dataframe tbody tr th:only-of-type {\n",
       "        vertical-align: middle;\n",
       "    }\n",
       "\n",
       "    .dataframe tbody tr th {\n",
       "        vertical-align: top;\n",
       "    }\n",
       "\n",
       "    .dataframe thead th {\n",
       "        text-align: right;\n",
       "    }\n",
       "</style>\n",
       "<table border=\"1\" class=\"dataframe\">\n",
       "  <thead>\n",
       "    <tr style=\"text-align: right;\">\n",
       "      <th></th>\n",
       "      <th>close</th>\n",
       "      <th>high</th>\n",
       "      <th>low</th>\n",
       "      <th>open</th>\n",
       "      <th>volume</th>\n",
       "      <th>adjClose</th>\n",
       "      <th>adjHigh</th>\n",
       "      <th>adjLow</th>\n",
       "      <th>adjOpen</th>\n",
       "      <th>adjVolume</th>\n",
       "      <th>divCash</th>\n",
       "      <th>splitFactor</th>\n",
       "    </tr>\n",
       "    <tr>\n",
       "      <th>date</th>\n",
       "      <th></th>\n",
       "      <th></th>\n",
       "      <th></th>\n",
       "      <th></th>\n",
       "      <th></th>\n",
       "      <th></th>\n",
       "      <th></th>\n",
       "      <th></th>\n",
       "      <th></th>\n",
       "      <th></th>\n",
       "      <th></th>\n",
       "      <th></th>\n",
       "    </tr>\n",
       "  </thead>\n",
       "  <tbody>\n",
       "    <tr>\n",
       "      <th>2023-12-22 00:00:00+00:00</th>\n",
       "      <td>193.60</td>\n",
       "      <td>195.41</td>\n",
       "      <td>192.970</td>\n",
       "      <td>195.18</td>\n",
       "      <td>37149570</td>\n",
       "      <td>193.090563</td>\n",
       "      <td>194.895800</td>\n",
       "      <td>192.462221</td>\n",
       "      <td>194.666405</td>\n",
       "      <td>37149570</td>\n",
       "      <td>0.0</td>\n",
       "      <td>1.0</td>\n",
       "    </tr>\n",
       "    <tr>\n",
       "      <th>2023-12-26 00:00:00+00:00</th>\n",
       "      <td>193.05</td>\n",
       "      <td>193.89</td>\n",
       "      <td>192.830</td>\n",
       "      <td>193.61</td>\n",
       "      <td>28919310</td>\n",
       "      <td>192.542010</td>\n",
       "      <td>193.379800</td>\n",
       "      <td>192.322589</td>\n",
       "      <td>193.100537</td>\n",
       "      <td>28919310</td>\n",
       "      <td>0.0</td>\n",
       "      <td>1.0</td>\n",
       "    </tr>\n",
       "    <tr>\n",
       "      <th>2023-12-27 00:00:00+00:00</th>\n",
       "      <td>193.15</td>\n",
       "      <td>193.50</td>\n",
       "      <td>191.090</td>\n",
       "      <td>192.49</td>\n",
       "      <td>47899806</td>\n",
       "      <td>192.641747</td>\n",
       "      <td>192.990826</td>\n",
       "      <td>190.587168</td>\n",
       "      <td>191.983484</td>\n",
       "      <td>47899806</td>\n",
       "      <td>0.0</td>\n",
       "      <td>1.0</td>\n",
       "    </tr>\n",
       "    <tr>\n",
       "      <th>2023-12-28 00:00:00+00:00</th>\n",
       "      <td>193.58</td>\n",
       "      <td>194.66</td>\n",
       "      <td>193.170</td>\n",
       "      <td>194.14</td>\n",
       "      <td>34049898</td>\n",
       "      <td>193.070616</td>\n",
       "      <td>194.147774</td>\n",
       "      <td>192.661694</td>\n",
       "      <td>193.629142</td>\n",
       "      <td>34049898</td>\n",
       "      <td>0.0</td>\n",
       "      <td>1.0</td>\n",
       "    </tr>\n",
       "    <tr>\n",
       "      <th>2023-12-29 00:00:00+00:00</th>\n",
       "      <td>192.53</td>\n",
       "      <td>194.40</td>\n",
       "      <td>191.725</td>\n",
       "      <td>193.90</td>\n",
       "      <td>42672148</td>\n",
       "      <td>192.023378</td>\n",
       "      <td>193.888458</td>\n",
       "      <td>191.220497</td>\n",
       "      <td>193.389773</td>\n",
       "      <td>42672148</td>\n",
       "      <td>0.0</td>\n",
       "      <td>1.0</td>\n",
       "    </tr>\n",
       "  </tbody>\n",
       "</table>\n",
       "</div>"
      ],
      "text/plain": [
       "                            close    high      low    open    volume  \\\n",
       "date                                                                   \n",
       "2023-12-22 00:00:00+00:00  193.60  195.41  192.970  195.18  37149570   \n",
       "2023-12-26 00:00:00+00:00  193.05  193.89  192.830  193.61  28919310   \n",
       "2023-12-27 00:00:00+00:00  193.15  193.50  191.090  192.49  47899806   \n",
       "2023-12-28 00:00:00+00:00  193.58  194.66  193.170  194.14  34049898   \n",
       "2023-12-29 00:00:00+00:00  192.53  194.40  191.725  193.90  42672148   \n",
       "\n",
       "                             adjClose     adjHigh      adjLow     adjOpen  \\\n",
       "date                                                                        \n",
       "2023-12-22 00:00:00+00:00  193.090563  194.895800  192.462221  194.666405   \n",
       "2023-12-26 00:00:00+00:00  192.542010  193.379800  192.322589  193.100537   \n",
       "2023-12-27 00:00:00+00:00  192.641747  192.990826  190.587168  191.983484   \n",
       "2023-12-28 00:00:00+00:00  193.070616  194.147774  192.661694  193.629142   \n",
       "2023-12-29 00:00:00+00:00  192.023378  193.888458  191.220497  193.389773   \n",
       "\n",
       "                           adjVolume  divCash  splitFactor  \n",
       "date                                                        \n",
       "2023-12-22 00:00:00+00:00   37149570      0.0          1.0  \n",
       "2023-12-26 00:00:00+00:00   28919310      0.0          1.0  \n",
       "2023-12-27 00:00:00+00:00   47899806      0.0          1.0  \n",
       "2023-12-28 00:00:00+00:00   34049898      0.0          1.0  \n",
       "2023-12-29 00:00:00+00:00   42672148      0.0          1.0  "
      ]
     },
     "execution_count": 5,
     "metadata": {},
     "output_type": "execute_result"
    }
   ],
   "source": [
    "df.tail() # shows the end dates of the dataset"
   ]
  },
  {
   "cell_type": "code",
   "execution_count": 6,
   "id": "7d1f89ea-ecb1-4dfa-9786-10a7c65c54b6",
   "metadata": {},
   "outputs": [],
   "source": [
    "df1=df.reset_index()['close']"
   ]
  },
  {
   "cell_type": "code",
   "execution_count": 7,
   "id": "e7226606-8f63-4165-80e3-5b8896e1778c",
   "metadata": {},
   "outputs": [
    {
     "data": {
      "text/plain": [
       "0       300.35\n",
       "1       297.43\n",
       "2       299.80\n",
       "3       298.39\n",
       "4       303.19\n",
       "         ...  \n",
       "1001    193.60\n",
       "1002    193.05\n",
       "1003    193.15\n",
       "1004    193.58\n",
       "1005    192.53\n",
       "Name: close, Length: 1006, dtype: float64"
      ]
     },
     "execution_count": 7,
     "metadata": {},
     "output_type": "execute_result"
    }
   ],
   "source": [
    "df1"
   ]
  },
  {
   "cell_type": "code",
   "execution_count": 8,
   "id": "df7956bb-1ace-4a30-9ab1-146065b078c3",
   "metadata": {},
   "outputs": [
    {
     "data": {
      "text/plain": [
       "[<matplotlib.lines.Line2D at 0x1172d4290>]"
      ]
     },
     "execution_count": 8,
     "metadata": {},
     "output_type": "execute_result"
    },
    {
     "data": {
      "image/png": "[encoded data removed]",
      "text/plain": [
       "<Figure size 640x480 with 1 Axes>"
      ]
     },
     "metadata": {},
     "output_type": "display_data"
    }
   ],
   "source": [
    "#plotting the dataframe df1\n",
    "import matplotlib.pyplot as plt\n",
    "plt.plot(df1)"
   ]
  },
  {
   "cell_type": "code",
   "execution_count": 9,
   "id": "97283fea-4527-4cac-bb8d-5f3645e694ee",
   "metadata": {},
   "outputs": [],
   "source": [
    "#LSTM are sensitive to the scale of the data, so we apply min max scaler"
   ]
  },
  {
   "cell_type": "code",
   "execution_count": 10,
   "id": "0326ff6a-f7e6-4cea-b585-bf83a794baf0",
   "metadata": {},
   "outputs": [],
   "source": [
    "import numpy as np"
   ]
  },
  {
   "cell_type": "code",
   "execution_count": 11,
   "id": "4d3e2cd0-cd1c-4842-973a-2ba6ce9e452b",
   "metadata": {},
   "outputs": [],
   "source": [
    "from sklearn.preprocessing import MinMaxScaler as mms\n",
    "scaler=mms(feature_range=(0,1))\n",
    "df1=scaler.fit_transform(np.array(df1).reshape(-1,1))"
   ]
  },
  {
   "cell_type": "code",
   "execution_count": 12,
   "id": "93e4d1db-5081-45b6-8b4b-3fb359e166af",
   "metadata": {},
   "outputs": [
    {
     "data": {
      "text/plain": [
       "(1006, 1)"
      ]
     },
     "execution_count": 12,
     "metadata": {},
     "output_type": "execute_result"
    }
   ],
   "source": [
    "df1.shape"
   ]
  },
  {
   "cell_type": "code",
   "execution_count": 13,
   "id": "18269a14-f31b-4599-b52c-6782f8fe8ee1",
   "metadata": {},
   "outputs": [
    {
     "data": {
      "text/plain": [
       "array([[0.48468378],\n",
       "       [0.47737007],\n",
       "       [0.4833062 ],\n",
       "       ...,\n",
       "       [0.21618034],\n",
       "       [0.21725736],\n",
       "       [0.21462743]])"
      ]
     },
     "execution_count": 13,
     "metadata": {},
     "output_type": "execute_result"
    }
   ],
   "source": [
    "df1"
   ]
  },
  {
   "cell_type": "markdown",
   "id": "be424d46-ae97-442a-88e7-a67842652bf3",
   "metadata": {},
   "source": [
    "## Data Splitting"
   ]
  },
  {
   "cell_type": "code",
   "execution_count": 14,
   "id": "996bc400-3b0f-45ba-94eb-0c08b3affc33",
   "metadata": {},
   "outputs": [],
   "source": [
    "# Important- in case of time series data it is really important to split data in a continuous manner from the beginning\n",
    "# because each data is dependent on its previous days"
   ]
  },
  {
   "cell_type": "code",
   "execution_count": 15,
   "id": "1aab9588-1b09-4235-b213-08f1bcbfc47d",
   "metadata": {},
   "outputs": [],
   "source": [
    "training_size=int(len(df1)*0.65)\n",
    "test_size=len(df1)-training_size\n",
    "train_data, test_data=df1[0:training_size,:], df1[training_size:len(df1),:1]"
   ]
  },
  {
   "cell_type": "code",
   "execution_count": 16,
   "id": "7fb4589c-6261-4d2a-b171-f75bb51574f6",
   "metadata": {},
   "outputs": [
    {
     "data": {
      "text/plain": [
       "(653, 353)"
      ]
     },
     "execution_count": 16,
     "metadata": {},
     "output_type": "execute_result"
    }
   ],
   "source": [
    "training_size,test_size"
   ]
  },
  {
   "cell_type": "code",
   "execution_count": 17,
   "id": "45d561ad-b1ad-4d21-813f-67a3f13ebf6c",
   "metadata": {},
   "outputs": [],
   "source": [
    "## converting an array of values into a dataset matrix\n",
    "def create_dataset(dataset, time_step=1):\n",
    "    dataX, dataY=[],[]\n",
    "    for i in range(len(dataset)-time_step-1):\n",
    "        a=dataset[i:(i+time_step),0] ### i=0,1,2,3...\n",
    "        dataX.append(a)\n",
    "        dataY.append(dataset[i+time_step,0])\n",
    "    return np.array(dataX), np.array(dataY)"
   ]
  },
  {
   "cell_type": "code",
   "execution_count": 18,
   "id": "ce2425d9-212f-435b-86b5-839cc3fc2711",
   "metadata": {},
   "outputs": [],
   "source": [
    "## now with a time step of 100 we will compute our output\n",
    "# X=t,t+1,t+2....t+99   Y=t+100\n",
    "time_step=100\n",
    "x_train, y_train=create_dataset(train_data,time_step)\n",
    "x_test, y_test=create_dataset(test_data,time_step)"
   ]
  },
  {
   "cell_type": "code",
   "execution_count": 19,
   "id": "09d4d85a-2e70-407b-87d3-adcf1ee83385",
   "metadata": {},
   "outputs": [
    {
     "name": "stdout",
     "output_type": "stream",
     "text": [
      "(552, 100)\n",
      "(552,)\n"
     ]
    },
    {
     "data": {
      "text/plain": [
       "(None, None)"
      ]
     },
     "execution_count": 19,
     "metadata": {},
     "output_type": "execute_result"
    }
   ],
   "source": [
    "print(x_train.shape), print(y_train.shape)"
   ]
  },
  {
   "cell_type": "code",
   "execution_count": 20,
   "id": "2ae3c4ce-8634-4d63-b358-c724275a1420",
   "metadata": {},
   "outputs": [
    {
     "name": "stdout",
     "output_type": "stream",
     "text": [
      "(252, 100)\n",
      "(252,)\n"
     ]
    },
    {
     "data": {
      "text/plain": [
       "(None, None)"
      ]
     },
     "execution_count": 20,
     "metadata": {},
     "output_type": "execute_result"
    }
   ],
   "source": [
    "print(x_test.shape), print(y_test.shape)"
   ]
  },
  {
   "cell_type": "code",
   "execution_count": 21,
   "id": "95683d10-9b89-4037-92e6-83c83c9df9bf",
   "metadata": {},
   "outputs": [],
   "source": [
    "## reshaping input to be of the form (sample,time_steps,feature) which is required by LSTM\n",
    "x_train=x_train.reshape(x_train.shape[0],x_train.shape[1], 1)\n",
    "x_test=x_test.reshape(x_test.shape[0],x_test.shape[1], 1)"
   ]
  },
  {
   "cell_type": "markdown",
   "id": "daf43d3e-e6b2-4d83-b91c-fc1aa9f30832",
   "metadata": {},
   "source": [
    "## Creating LSTM model"
   ]
  },
  {
   "cell_type": "code",
   "execution_count": 22,
   "id": "94131943-7c60-46ad-b0b3-f58c4e15727e",
   "metadata": {},
   "outputs": [],
   "source": [
    "# creating the stacked LSTM model\n",
    "from tensorflow.keras.models import Sequential\n",
    "from tensorflow.keras.layers import Dense\n",
    "from tensorflow.keras.layers import LSTM"
   ]
  },
  {
   "cell_type": "code",
   "execution_count": 23,
   "id": "2238e770-77ba-413b-b8ae-96b5e14994c9",
   "metadata": {},
   "outputs": [],
   "source": [
    "model=Sequential()\n",
    "model.add(LSTM(50,return_sequences=True,input_shape=(100,1)))\n",
    "model.add(LSTM(50,return_sequences=True))\n",
    "model.add(LSTM(50))\n",
    "model.add(Dense(1))\n",
    "model.compile(loss='mean_squared_error', optimizer='adam')"
   ]
  },
  {
   "cell_type": "code",
   "execution_count": 24,
   "id": "86f97268-5c97-4a67-bb0f-56346163b556",
   "metadata": {},
   "outputs": [
    {
     "name": "stdout",
     "output_type": "stream",
     "text": [
      "Model: \"sequential\"\n",
      "_________________________________________________________________\n",
      " Layer (type)                Output Shape              Param #   \n",
      "=================================================================\n",
      " lstm (LSTM)                 (None, 100, 50)           10400     \n",
      "                                                                 \n",
      " lstm_1 (LSTM)               (None, 100, 50)           20200     \n",
      "                                                                 \n",
      " lstm_2 (LSTM)               (None, 50)                20200     \n",
      "                                                                 \n",
      " dense (Dense)               (None, 1)                 51        \n",
      "                                                                 \n",
      "=================================================================\n",
      "Total params: 50851 (198.64 KB)\n",
      "Trainable params: 50851 (198.64 KB)\n",
      "Non-trainable params: 0 (0.00 Byte)\n",
      "_________________________________________________________________\n"
     ]
    }
   ],
   "source": [
    "## model summary\n",
    "model.summary()"
   ]
  },
  {
   "cell_type": "code",
   "execution_count": 25,
   "id": "ce8b2757-8e0e-4355-8022-7a710e92a49d",
   "metadata": {},
   "outputs": [
    {
     "name": "stdout",
     "output_type": "stream",
     "text": [
      "Epoch 1/100\n",
      "9/9 [==============================] - 3s 125ms/step - loss: 0.0402 - val_loss: 0.0042\n",
      "Epoch 2/100\n",
      "9/9 [==============================] - 1s 82ms/step - loss: 0.0152 - val_loss: 6.8538e-04\n",
      "Epoch 3/100\n",
      "9/9 [==============================] - 1s 81ms/step - loss: 0.0119 - val_loss: 9.4162e-04\n",
      "Epoch 4/100\n",
      "9/9 [==============================] - 1s 81ms/step - loss: 0.0100 - val_loss: 2.2399e-04\n",
      "Epoch 5/100\n",
      "9/9 [==============================] - 1s 82ms/step - loss: 0.0091 - val_loss: 8.4741e-04\n",
      "Epoch 6/100\n",
      "9/9 [==============================] - 1s 82ms/step - loss: 0.0093 - val_loss: 5.4812e-04\n",
      "Epoch 7/100\n",
      "9/9 [==============================] - 1s 81ms/step - loss: 0.0077 - val_loss: 2.7569e-04\n",
      "Epoch 8/100\n",
      "9/9 [==============================] - 1s 81ms/step - loss: 0.0067 - val_loss: 2.2085e-04\n",
      "Epoch 9/100\n",
      "9/9 [==============================] - 1s 82ms/step - loss: 0.0058 - val_loss: 9.6922e-04\n",
      "Epoch 10/100\n",
      "9/9 [==============================] - 1s 83ms/step - loss: 0.0057 - val_loss: 0.0012\n",
      "Epoch 11/100\n",
      "9/9 [==============================] - 1s 83ms/step - loss: 0.0056 - val_loss: 3.1421e-04\n",
      "Epoch 12/100\n",
      "9/9 [==============================] - 1s 85ms/step - loss: 0.0057 - val_loss: 2.1709e-04\n",
      "Epoch 13/100\n",
      "9/9 [==============================] - 1s 85ms/step - loss: 0.0045 - val_loss: 9.8159e-04\n",
      "Epoch 14/100\n",
      "9/9 [==============================] - 1s 93ms/step - loss: 0.0043 - val_loss: 3.9189e-04\n",
      "Epoch 15/100\n",
      "9/9 [==============================] - 1s 84ms/step - loss: 0.0033 - val_loss: 7.1572e-04\n",
      "Epoch 16/100\n",
      "9/9 [==============================] - 1s 85ms/step - loss: 0.0032 - val_loss: 5.2613e-04\n",
      "Epoch 17/100\n",
      "9/9 [==============================] - 1s 86ms/step - loss: 0.0031 - val_loss: 3.4581e-04\n",
      "Epoch 18/100\n",
      "9/9 [==============================] - 1s 86ms/step - loss: 0.0028 - val_loss: 3.1407e-04\n",
      "Epoch 19/100\n",
      "9/9 [==============================] - 1s 86ms/step - loss: 0.0027 - val_loss: 2.6278e-04\n",
      "Epoch 20/100\n",
      "9/9 [==============================] - 1s 85ms/step - loss: 0.0030 - val_loss: 1.7934e-04\n",
      "Epoch 21/100\n",
      "9/9 [==============================] - 1s 86ms/step - loss: 0.0033 - val_loss: 7.7638e-04\n",
      "Epoch 22/100\n",
      "9/9 [==============================] - 1s 85ms/step - loss: 0.0032 - val_loss: 2.1014e-04\n",
      "Epoch 23/100\n",
      "9/9 [==============================] - 1s 87ms/step - loss: 0.0025 - val_loss: 2.9586e-04\n",
      "Epoch 24/100\n",
      "9/9 [==============================] - 1s 87ms/step - loss: 0.0023 - val_loss: 3.7916e-04\n",
      "Epoch 25/100\n",
      "9/9 [==============================] - 1s 87ms/step - loss: 0.0024 - val_loss: 3.5872e-04\n",
      "Epoch 26/100\n",
      "9/9 [==============================] - 1s 88ms/step - loss: 0.0020 - val_loss: 2.6612e-04\n",
      "Epoch 27/100\n",
      "9/9 [==============================] - 1s 87ms/step - loss: 0.0022 - val_loss: 3.3330e-04\n",
      "Epoch 28/100\n",
      "9/9 [==============================] - 1s 89ms/step - loss: 0.0024 - val_loss: 3.4668e-04\n",
      "Epoch 29/100\n",
      "9/9 [==============================] - 1s 88ms/step - loss: 0.0025 - val_loss: 2.0139e-04\n",
      "Epoch 30/100\n",
      "9/9 [==============================] - 1s 89ms/step - loss: 0.0028 - val_loss: 2.0329e-04\n",
      "Epoch 31/100\n",
      "9/9 [==============================] - 1s 86ms/step - loss: 0.0025 - val_loss: 3.5912e-04\n",
      "Epoch 32/100\n",
      "9/9 [==============================] - 1s 92ms/step - loss: 0.0021 - val_loss: 3.0149e-04\n",
      "Epoch 33/100\n",
      "9/9 [==============================] - 1s 91ms/step - loss: 0.0021 - val_loss: 2.8968e-04\n",
      "Epoch 34/100\n",
      "9/9 [==============================] - 1s 90ms/step - loss: 0.0022 - val_loss: 4.5387e-04\n",
      "Epoch 35/100\n",
      "9/9 [==============================] - 1s 92ms/step - loss: 0.0024 - val_loss: 2.6159e-04\n",
      "Epoch 36/100\n",
      "9/9 [==============================] - 1s 89ms/step - loss: 0.0019 - val_loss: 1.8740e-04\n",
      "Epoch 37/100\n",
      "9/9 [==============================] - 1s 89ms/step - loss: 0.0019 - val_loss: 2.5338e-04\n",
      "Epoch 38/100\n",
      "9/9 [==============================] - 1s 92ms/step - loss: 0.0020 - val_loss: 1.7463e-04\n",
      "Epoch 39/100\n",
      "9/9 [==============================] - 1s 95ms/step - loss: 0.0019 - val_loss: 4.9608e-04\n",
      "Epoch 40/100\n",
      "9/9 [==============================] - 1s 91ms/step - loss: 0.0049 - val_loss: 6.1663e-04\n",
      "Epoch 41/100\n",
      "9/9 [==============================] - 1s 95ms/step - loss: 0.0028 - val_loss: 7.2571e-04\n",
      "Epoch 42/100\n",
      "9/9 [==============================] - 1s 90ms/step - loss: 0.0024 - val_loss: 3.5522e-04\n",
      "Epoch 43/100\n",
      "9/9 [==============================] - 1s 93ms/step - loss: 0.0018 - val_loss: 2.3943e-04\n",
      "Epoch 44/100\n",
      "9/9 [==============================] - 1s 92ms/step - loss: 0.0016 - val_loss: 1.9216e-04\n",
      "Epoch 45/100\n",
      "9/9 [==============================] - 1s 92ms/step - loss: 0.0014 - val_loss: 1.9281e-04\n",
      "Epoch 46/100\n",
      "9/9 [==============================] - 1s 94ms/step - loss: 0.0021 - val_loss: 2.5920e-04\n",
      "Epoch 47/100\n",
      "9/9 [==============================] - 1s 93ms/step - loss: 0.0023 - val_loss: 2.0717e-04\n",
      "Epoch 48/100\n",
      "9/9 [==============================] - 1s 95ms/step - loss: 0.0020 - val_loss: 1.8069e-04\n",
      "Epoch 49/100\n",
      "9/9 [==============================] - 1s 90ms/step - loss: 0.0019 - val_loss: 2.4509e-04\n",
      "Epoch 50/100\n",
      "9/9 [==============================] - 1s 92ms/step - loss: 0.0015 - val_loss: 2.7708e-04\n",
      "Epoch 51/100\n",
      "9/9 [==============================] - 1s 91ms/step - loss: 0.0017 - val_loss: 1.9634e-04\n",
      "Epoch 52/100\n",
      "9/9 [==============================] - 1s 90ms/step - loss: 0.0016 - val_loss: 1.6992e-04\n",
      "Epoch 53/100\n",
      "9/9 [==============================] - 1s 94ms/step - loss: 0.0013 - val_loss: 2.4316e-04\n",
      "Epoch 54/100\n",
      "9/9 [==============================] - 1s 92ms/step - loss: 0.0016 - val_loss: 1.6409e-04\n",
      "Epoch 55/100\n",
      "9/9 [==============================] - 1s 94ms/step - loss: 0.0015 - val_loss: 1.8102e-04\n",
      "Epoch 56/100\n",
      "9/9 [==============================] - 1s 95ms/step - loss: 0.0040 - val_loss: 2.8373e-04\n",
      "Epoch 57/100\n",
      "9/9 [==============================] - 1s 92ms/step - loss: 0.0046 - val_loss: 8.6753e-04\n",
      "Epoch 58/100\n",
      "9/9 [==============================] - 1s 94ms/step - loss: 0.0020 - val_loss: 1.8722e-04\n",
      "Epoch 59/100\n",
      "9/9 [==============================] - 1s 93ms/step - loss: 0.0053 - val_loss: 8.0798e-04\n",
      "Epoch 60/100\n",
      "9/9 [==============================] - 1s 93ms/step - loss: 0.0069 - val_loss: 8.1922e-04\n",
      "Epoch 61/100\n",
      "9/9 [==============================] - 1s 95ms/step - loss: 0.0062 - val_loss: 0.0020\n",
      "Epoch 62/100\n",
      "9/9 [==============================] - 1s 92ms/step - loss: 0.0045 - val_loss: 2.8308e-04\n",
      "Epoch 63/100\n",
      "9/9 [==============================] - 1s 98ms/step - loss: 0.0041 - val_loss: 1.8294e-04\n",
      "Epoch 64/100\n",
      "9/9 [==============================] - 1s 95ms/step - loss: 0.0036 - val_loss: 2.7295e-04\n",
      "Epoch 65/100\n",
      "9/9 [==============================] - 1s 94ms/step - loss: 0.0034 - val_loss: 2.6146e-04\n",
      "Epoch 66/100\n",
      "9/9 [==============================] - 1s 98ms/step - loss: 0.0024 - val_loss: 1.6294e-04\n",
      "Epoch 67/100\n",
      "9/9 [==============================] - 1s 97ms/step - loss: 0.0022 - val_loss: 1.5720e-04\n",
      "Epoch 68/100\n",
      "9/9 [==============================] - 1s 96ms/step - loss: 0.0020 - val_loss: 2.3893e-04\n",
      "Epoch 69/100\n",
      "9/9 [==============================] - 1s 101ms/step - loss: 0.0017 - val_loss: 1.4667e-04\n",
      "Epoch 70/100\n",
      "9/9 [==============================] - 1s 98ms/step - loss: 0.0015 - val_loss: 2.3051e-04\n",
      "Epoch 71/100\n",
      "9/9 [==============================] - 1s 97ms/step - loss: 0.0015 - val_loss: 1.9743e-04\n",
      "Epoch 72/100\n",
      "9/9 [==============================] - 1s 98ms/step - loss: 0.0017 - val_loss: 1.9599e-04\n",
      "Epoch 73/100\n",
      "9/9 [==============================] - 1s 98ms/step - loss: 0.0016 - val_loss: 1.6693e-04\n",
      "Epoch 74/100\n",
      "9/9 [==============================] - 1s 97ms/step - loss: 0.0012 - val_loss: 2.5642e-04\n",
      "Epoch 75/100\n",
      "9/9 [==============================] - 1s 104ms/step - loss: 0.0012 - val_loss: 1.9755e-04\n",
      "Epoch 76/100\n",
      "9/9 [==============================] - 1s 102ms/step - loss: 0.0014 - val_loss: 1.8160e-04\n",
      "Epoch 77/100\n",
      "9/9 [==============================] - 1s 99ms/step - loss: 0.0012 - val_loss: 4.4378e-04\n",
      "Epoch 78/100\n",
      "9/9 [==============================] - 1s 100ms/step - loss: 0.0027 - val_loss: 1.5499e-04\n",
      "Epoch 79/100\n",
      "9/9 [==============================] - 1s 107ms/step - loss: 0.0020 - val_loss: 5.2680e-04\n",
      "Epoch 80/100\n",
      "9/9 [==============================] - 1s 99ms/step - loss: 0.0019 - val_loss: 1.5599e-04\n",
      "Epoch 81/100\n",
      "9/9 [==============================] - 1s 99ms/step - loss: 0.0013 - val_loss: 4.1978e-04\n",
      "Epoch 82/100\n",
      "9/9 [==============================] - 1s 96ms/step - loss: 0.0015 - val_loss: 1.8052e-04\n",
      "Epoch 83/100\n",
      "9/9 [==============================] - 1s 96ms/step - loss: 0.0011 - val_loss: 2.6844e-04\n",
      "Epoch 84/100\n",
      "9/9 [==============================] - 1s 107ms/step - loss: 0.0019 - val_loss: 3.3899e-04\n",
      "Epoch 85/100\n",
      "9/9 [==============================] - 1s 97ms/step - loss: 0.0017 - val_loss: 1.5436e-04\n",
      "Epoch 86/100\n",
      "9/9 [==============================] - 1s 98ms/step - loss: 0.0015 - val_loss: 2.0929e-04\n",
      "Epoch 87/100\n",
      "9/9 [==============================] - 1s 87ms/step - loss: 0.0015 - val_loss: 1.6857e-04\n",
      "Epoch 88/100\n",
      "9/9 [==============================] - 1s 86ms/step - loss: 0.0013 - val_loss: 2.4443e-04\n",
      "Epoch 89/100\n",
      "9/9 [==============================] - 1s 87ms/step - loss: 0.0018 - val_loss: 1.7304e-04\n",
      "Epoch 90/100\n",
      "9/9 [==============================] - 1s 95ms/step - loss: 0.0011 - val_loss: 2.4416e-04\n",
      "Epoch 91/100\n",
      "9/9 [==============================] - 1s 91ms/step - loss: 0.0013 - val_loss: 1.5912e-04\n",
      "Epoch 92/100\n",
      "9/9 [==============================] - 1s 94ms/step - loss: 0.0021 - val_loss: 2.5850e-04\n",
      "Epoch 93/100\n",
      "9/9 [==============================] - 1s 90ms/step - loss: 8.8231e-04 - val_loss: 1.6878e-04\n",
      "Epoch 94/100\n",
      "9/9 [==============================] - 1s 93ms/step - loss: 0.0022 - val_loss: 2.4953e-04\n",
      "Epoch 95/100\n",
      "9/9 [==============================] - 1s 90ms/step - loss: 0.0017 - val_loss: 1.8350e-04\n",
      "Epoch 96/100\n",
      "9/9 [==============================] - 1s 91ms/step - loss: 0.0016 - val_loss: 2.1909e-04\n",
      "Epoch 97/100\n",
      "9/9 [==============================] - 1s 96ms/step - loss: 0.0012 - val_loss: 1.9036e-04\n",
      "Epoch 98/100\n",
      "9/9 [==============================] - 1s 91ms/step - loss: 0.0014 - val_loss: 2.1898e-04\n",
      "Epoch 99/100\n",
      "9/9 [==============================] - 1s 93ms/step - loss: 0.0014 - val_loss: 2.1235e-04\n",
      "Epoch 100/100\n",
      "9/9 [==============================] - 1s 93ms/step - loss: 0.0013 - val_loss: 1.6075e-04\n"
     ]
    },
    {
     "data": {
      "text/plain": [
       "<keras.src.callbacks.History at 0x3032e9b10>"
      ]
     },
     "execution_count": 25,
     "metadata": {},
     "output_type": "execute_result"
    }
   ],
   "source": [
    "model.fit(x_train,y_train,validation_data=(x_test,y_test),epochs=100,batch_size=64,verbose=1)"
   ]
  },
  {
   "cell_type": "markdown",
   "id": "bc40fbba-4949-4e8c-97a1-73c90bbdde50",
   "metadata": {},
   "source": [
    "## Precdiction Output "
   ]
  },
  {
   "cell_type": "code",
   "execution_count": 28,
   "id": "69c53917-b74c-45f2-90be-56d5a4b29b01",
   "metadata": {},
   "outputs": [
    {
     "name": "stdout",
     "output_type": "stream",
     "text": [
      "18/18 [==============================] - 1s 11ms/step\n",
      "8/8 [==============================] - 0s 12ms/step\n"
     ]
    }
   ],
   "source": [
    "train_predict=model.predict(x_train)\n",
    "test_predict=model.predict(x_test)"
   ]
  },
  {
   "cell_type": "code",
   "execution_count": 29,
   "id": "868cf943-f7d3-417a-9a22-4597883f911f",
   "metadata": {},
   "outputs": [],
   "source": [
    "## transform to the original form\n",
    "train_predict=scaler.inverse_transform(train_predict)\n",
    "test_predict=scaler.inverse_transform(test_predict)"
   ]
  },
  {
   "cell_type": "code",
   "execution_count": 31,
   "id": "941a1504-7a8f-4777-8f23-364e5094cc38",
   "metadata": {},
   "outputs": [
    {
     "data": {
      "text/plain": [
       "190.50133896566805"
      ]
     },
     "execution_count": 31,
     "metadata": {},
     "output_type": "execute_result"
    }
   ],
   "source": [
    "## Calculate RMSE performance metrices\n",
    "import math\n",
    "from sklearn.metrics import mean_squared_error as mse\n",
    "math.sqrt(mse(y_train,train_predict))"
   ]
  },
  {
   "cell_type": "code",
   "execution_count": 32,
   "id": "96067ebc-dab1-4edd-92b8-465c02cc941c",
   "metadata": {},
   "outputs": [
    {
     "data": {
      "text/plain": [
       "171.18716374211138"
      ]
     },
     "execution_count": 32,
     "metadata": {},
     "output_type": "execute_result"
    }
   ],
   "source": [
    "## test data RMSE\n",
    "math.sqrt(mse(y_test,test_predict))"
   ]
  },
  {
   "cell_type": "code",
   "execution_count": 37,
   "id": "118cbb4b-7279-4b23-8882-497db9e946fa",
   "metadata": {},
   "outputs": [
    {
     "data": {
      "image/png": "[encoded data removed]",
      "text/plain": [
       "<Figure size 640x480 with 1 Axes>"
      ]
     },
     "metadata": {},
     "output_type": "display_data"
    }
   ],
   "source": [
    "### Plotting \n",
    "# shift train predictions for plotting\n",
    "look_back=100\n",
    "trainPredictPlot = np.empty_like(df1)\n",
    "trainPredictPlot[:, :] = np.nan\n",
    "trainPredictPlot[look_back:len(train_predict)+look_back, :] = train_predict\n",
    "# shift test predictions for plotting\n",
    "testPredictPlot = np.empty_like(df1)\n",
    "testPredictPlot[:, :] = np.nan\n",
    "testPredictPlot[len(train_predict)+(look_back*2)+1:len(df1)-1, :] = test_predict\n",
    "# plot baseline and predictions\n",
    "plt.plot(scaler.inverse_transform(df1), label='original data')\n",
    "plt.plot(trainPredictPlot, label='training prediction')\n",
    "plt.plot(testPredictPlot, label='testing prediction')\n",
    "plt.legend()\n",
    "plt.show()"
   ]
  },
  {
   "cell_type": "markdown",
   "id": "d7da2d3a-30d1-4c29-9083-28123e512725",
   "metadata": {},
   "source": [
    "## Forecasting Output"
   ]
  },
  {
   "cell_type": "code",
   "execution_count": 38,
   "id": "613d69e2-7b34-4061-8ef9-f66019a1aec8",
   "metadata": {},
   "outputs": [
    {
     "data": {
      "text/plain": [
       "353"
      ]
     },
     "execution_count": 38,
     "metadata": {},
     "output_type": "execute_result"
    }
   ],
   "source": [
    "len(test_data)"
   ]
  },
  {
   "cell_type": "code",
   "execution_count": 40,
   "id": "a02e8a76-81c3-466d-82bb-f58e8fb3e5a1",
   "metadata": {},
   "outputs": [
    {
     "data": {
      "text/plain": [
       "(1, 100)"
      ]
     },
     "execution_count": 40,
     "metadata": {},
     "output_type": "execute_result"
    }
   ],
   "source": [
    "x_input=test_data[253:].reshape(1,-1)\n",
    "x_input.shape"
   ]
  },
  {
   "cell_type": "code",
   "execution_count": 42,
   "id": "fd1b0299-0fae-4554-8549-53db08895e37",
   "metadata": {},
   "outputs": [],
   "source": [
    "forecast_input=list(x_input)\n",
    "forecast_input=forecast_input[0].tolist()"
   ]
  },
  {
   "cell_type": "code",
   "execution_count": 43,
   "id": "5de20fe4-b411-467d-9a4e-bc0e41345349",
   "metadata": {},
   "outputs": [
    {
     "data": {
      "text/plain": [
       "[0.1787100814026299,\n",
       " 0.17815904821540385,\n",
       " 0.17770820288040068,\n",
       " 0.18189104571070758,\n",
       " 0.1768566061365059,\n",
       " 0.1746524733876017,\n",
       " 0.16821540388227924,\n",
       " 0.16944270507200998,\n",
       " 0.17282404508453347,\n",
       " 0.17630557294927984,\n",
       " 0.18604884157795865,\n",
       " 0.17417658108954281,\n",
       " 0.17976205385097055,\n",
       " 0.18371947401377575,\n",
       " 0.1935629304946775,\n",
       " 0.20240450845335,\n",
       " 0.20295554164057605,\n",
       " 0.20693800876643703,\n",
       " 0.20753913587977452,\n",
       " 0.19053224796493418,\n",
       " 0.1771321227301189,\n",
       " 0.17868503443957418,\n",
       " 0.18164057608015027,\n",
       " 0.17397620538509706,\n",
       " 0.16874139010644956,\n",
       " 0.17257357545397617,\n",
       " 0.17074514715090788,\n",
       " 0.17815904821540385,\n",
       " 0.18091421415153408,\n",
       " 0.17194740137758296,\n",
       " 0.16804007514088914,\n",
       " 0.17019411396368184,\n",
       " 0.173425172197871,\n",
       " 0.16310582341891044,\n",
       " 0.15927363807138384,\n",
       " 0.15992485911083276,\n",
       " 0.16122730118973072,\n",
       " 0.16758922980588598,\n",
       " 0.16420788979336254,\n",
       " 0.1673638071383844,\n",
       " 0.17049467752035058,\n",
       " 0.17695679398872882,\n",
       " 0.18071383844708827,\n",
       " 0.17921102066374445,\n",
       " 0.18274264245460237,\n",
       " 0.1850219160926737,\n",
       " 0.18036318096430803,\n",
       " 0.18003757044458357,\n",
       " 0.17610519724483403,\n",
       " 0.17282404508453347,\n",
       " 0.17187226048841575,\n",
       " 0.1654101440200375,\n",
       " 0.1657107075767063,\n",
       " 0.1668127739511584,\n",
       " 0.16095178459611764,\n",
       " 0.15040701314965554,\n",
       " 0.1537382592360676,\n",
       " 0.15892298058860355,\n",
       " 0.16012523481527863,\n",
       " 0.16814026299311202,\n",
       " 0.17715716969317463,\n",
       " 0.17485284909204757,\n",
       " 0.1813149655604257,\n",
       " 0.18780212899185966,\n",
       " 0.19048215403882274,\n",
       " 0.1892798998121477,\n",
       " 0.19927363807138382,\n",
       " 0.19526612398246712,\n",
       " 0.20187852222917968,\n",
       " 0.20330619912335623,\n",
       " 0.2075641828428303,\n",
       " 0.2075140889167188,\n",
       " 0.21192235441452717,\n",
       " 0.20989355040701307,\n",
       " 0.211571696931747,\n",
       " 0.20821540388227922,\n",
       " 0.2077645585472761,\n",
       " 0.2092924232936756,\n",
       " 0.20671258609893545,\n",
       " 0.20816530995616772,\n",
       " 0.2113963681903569,\n",
       " 0.20686286787726987,\n",
       " 0.21685660613650587,\n",
       " 0.21410144020037564,\n",
       " 0.21898559799624295,\n",
       " 0.22259236067626798,\n",
       " 0.21625547902316838,\n",
       " 0.22008766437069505,\n",
       " 0.2282279273638071,\n",
       " 0.22860363180964305,\n",
       " 0.2272510958046336,\n",
       " 0.22304320601127103,\n",
       " 0.22567313713212267,\n",
       " 0.2203882279273638,\n",
       " 0.22001252348152783,\n",
       " 0.21730745147150904,\n",
       " 0.21592986850344392,\n",
       " 0.21618033813400123,\n",
       " 0.2172573575453976,\n",
       " 0.21462742642454596]"
      ]
     },
     "execution_count": 43,
     "metadata": {},
     "output_type": "execute_result"
    }
   ],
   "source": [
    "forecast_input"
   ]
  },
  {
   "cell_type": "code",
   "execution_count": 46,
   "id": "e0449bd9-430e-46a1-9310-35303634ebf4",
   "metadata": {},
   "outputs": [
    {
     "name": "stdout",
     "output_type": "stream",
     "text": [
      "[0.22131397]\n",
      "101\n",
      "1 day input [0.17815905 0.1777082  0.18189105 0.17685661 0.17465247 0.1682154\n",
      " 0.16944271 0.17282405 0.17630557 0.18604884 0.17417658 0.17976205\n",
      " 0.18371947 0.19356293 0.20240451 0.20295554 0.20693801 0.20753914\n",
      " 0.19053225 0.17713212 0.17868503 0.18164058 0.17397621 0.16874139\n",
      " 0.17257358 0.17074515 0.17815905 0.18091421 0.1719474  0.16804008\n",
      " 0.17019411 0.17342517 0.16310582 0.15927364 0.15992486 0.1612273\n",
      " 0.16758923 0.16420789 0.16736381 0.17049468 0.17695679 0.18071384\n",
      " 0.17921102 0.18274264 0.18502192 0.18036318 0.18003757 0.1761052\n",
      " 0.17282405 0.17187226 0.16541014 0.16571071 0.16681277 0.16095178\n",
      " 0.15040701 0.15373826 0.15892298 0.16012523 0.16814026 0.17715717\n",
      " 0.17485285 0.18131497 0.18780213 0.19048215 0.1892799  0.19927364\n",
      " 0.19526612 0.20187852 0.2033062  0.20756418 0.20751409 0.21192235\n",
      " 0.20989355 0.2115717  0.2082154  0.20776456 0.20929242 0.20671259\n",
      " 0.20816531 0.21139637 0.20686287 0.21685661 0.21410144 0.2189856\n",
      " 0.22259236 0.21625548 0.22008766 0.22822793 0.22860363 0.2272511\n",
      " 0.22304321 0.22567314 0.22038823 0.22001252 0.21730745 0.21592987\n",
      " 0.21618034 0.21725736 0.21462743 0.22131397]\n",
      "1 day output [[0.22038281]]\n",
      "2 day input [0.1777082  0.18189105 0.17685661 0.17465247 0.1682154  0.16944271\n",
      " 0.17282405 0.17630557 0.18604884 0.17417658 0.17976205 0.18371947\n",
      " 0.19356293 0.20240451 0.20295554 0.20693801 0.20753914 0.19053225\n",
      " 0.17713212 0.17868503 0.18164058 0.17397621 0.16874139 0.17257358\n",
      " 0.17074515 0.17815905 0.18091421 0.1719474  0.16804008 0.17019411\n",
      " 0.17342517 0.16310582 0.15927364 0.15992486 0.1612273  0.16758923\n",
      " 0.16420789 0.16736381 0.17049468 0.17695679 0.18071384 0.17921102\n",
      " 0.18274264 0.18502192 0.18036318 0.18003757 0.1761052  0.17282405\n",
      " 0.17187226 0.16541014 0.16571071 0.16681277 0.16095178 0.15040701\n",
      " 0.15373826 0.15892298 0.16012523 0.16814026 0.17715717 0.17485285\n",
      " 0.18131497 0.18780213 0.19048215 0.1892799  0.19927364 0.19526612\n",
      " 0.20187852 0.2033062  0.20756418 0.20751409 0.21192235 0.20989355\n",
      " 0.2115717  0.2082154  0.20776456 0.20929242 0.20671259 0.20816531\n",
      " 0.21139637 0.20686287 0.21685661 0.21410144 0.2189856  0.22259236\n",
      " 0.21625548 0.22008766 0.22822793 0.22860363 0.2272511  0.22304321\n",
      " 0.22567314 0.22038823 0.22001252 0.21730745 0.21592987 0.21618034\n",
      " 0.21725736 0.21462743 0.22131397 0.22038281]\n",
      "2 day output [[0.21962728]]\n",
      "3 day input [0.18189105 0.17685661 0.17465247 0.1682154  0.16944271 0.17282405\n",
      " 0.17630557 0.18604884 0.17417658 0.17976205 0.18371947 0.19356293\n",
      " 0.20240451 0.20295554 0.20693801 0.20753914 0.19053225 0.17713212\n",
      " 0.17868503 0.18164058 0.17397621 0.16874139 0.17257358 0.17074515\n",
      " 0.17815905 0.18091421 0.1719474  0.16804008 0.17019411 0.17342517\n",
      " 0.16310582 0.15927364 0.15992486 0.1612273  0.16758923 0.16420789\n",
      " 0.16736381 0.17049468 0.17695679 0.18071384 0.17921102 0.18274264\n",
      " 0.18502192 0.18036318 0.18003757 0.1761052  0.17282405 0.17187226\n",
      " 0.16541014 0.16571071 0.16681277 0.16095178 0.15040701 0.15373826\n",
      " 0.15892298 0.16012523 0.16814026 0.17715717 0.17485285 0.18131497\n",
      " 0.18780213 0.19048215 0.1892799  0.19927364 0.19526612 0.20187852\n",
      " 0.2033062  0.20756418 0.20751409 0.21192235 0.20989355 0.2115717\n",
      " 0.2082154  0.20776456 0.20929242 0.20671259 0.20816531 0.21139637\n",
      " 0.20686287 0.21685661 0.21410144 0.2189856  0.22259236 0.21625548\n",
      " 0.22008766 0.22822793 0.22860363 0.2272511  0.22304321 0.22567314\n",
      " 0.22038823 0.22001252 0.21730745 0.21592987 0.21618034 0.21725736\n",
      " 0.21462743 0.22131397 0.22038281 0.21962728]\n",
      "3 day output [[0.21904317]]\n",
      "4 day input [0.17685661 0.17465247 0.1682154  0.16944271 0.17282405 0.17630557\n",
      " 0.18604884 0.17417658 0.17976205 0.18371947 0.19356293 0.20240451\n",
      " 0.20295554 0.20693801 0.20753914 0.19053225 0.17713212 0.17868503\n",
      " 0.18164058 0.17397621 0.16874139 0.17257358 0.17074515 0.17815905\n",
      " 0.18091421 0.1719474  0.16804008 0.17019411 0.17342517 0.16310582\n",
      " 0.15927364 0.15992486 0.1612273  0.16758923 0.16420789 0.16736381\n",
      " 0.17049468 0.17695679 0.18071384 0.17921102 0.18274264 0.18502192\n",
      " 0.18036318 0.18003757 0.1761052  0.17282405 0.17187226 0.16541014\n",
      " 0.16571071 0.16681277 0.16095178 0.15040701 0.15373826 0.15892298\n",
      " 0.16012523 0.16814026 0.17715717 0.17485285 0.18131497 0.18780213\n",
      " 0.19048215 0.1892799  0.19927364 0.19526612 0.20187852 0.2033062\n",
      " 0.20756418 0.20751409 0.21192235 0.20989355 0.2115717  0.2082154\n",
      " 0.20776456 0.20929242 0.20671259 0.20816531 0.21139637 0.20686287\n",
      " 0.21685661 0.21410144 0.2189856  0.22259236 0.21625548 0.22008766\n",
      " 0.22822793 0.22860363 0.2272511  0.22304321 0.22567314 0.22038823\n",
      " 0.22001252 0.21730745 0.21592987 0.21618034 0.21725736 0.21462743\n",
      " 0.22131397 0.22038281 0.21962728 0.21904317]\n",
      "4 day output [[0.21860343]]\n",
      "5 day input [0.17465247 0.1682154  0.16944271 0.17282405 0.17630557 0.18604884\n",
      " 0.17417658 0.17976205 0.18371947 0.19356293 0.20240451 0.20295554\n",
      " 0.20693801 0.20753914 0.19053225 0.17713212 0.17868503 0.18164058\n",
      " 0.17397621 0.16874139 0.17257358 0.17074515 0.17815905 0.18091421\n",
      " 0.1719474  0.16804008 0.17019411 0.17342517 0.16310582 0.15927364\n",
      " 0.15992486 0.1612273  0.16758923 0.16420789 0.16736381 0.17049468\n",
      " 0.17695679 0.18071384 0.17921102 0.18274264 0.18502192 0.18036318\n",
      " 0.18003757 0.1761052  0.17282405 0.17187226 0.16541014 0.16571071\n",
      " 0.16681277 0.16095178 0.15040701 0.15373826 0.15892298 0.16012523\n",
      " 0.16814026 0.17715717 0.17485285 0.18131497 0.18780213 0.19048215\n",
      " 0.1892799  0.19927364 0.19526612 0.20187852 0.2033062  0.20756418\n",
      " 0.20751409 0.21192235 0.20989355 0.2115717  0.2082154  0.20776456\n",
      " 0.20929242 0.20671259 0.20816531 0.21139637 0.20686287 0.21685661\n",
      " 0.21410144 0.2189856  0.22259236 0.21625548 0.22008766 0.22822793\n",
      " 0.22860363 0.2272511  0.22304321 0.22567314 0.22038823 0.22001252\n",
      " 0.21730745 0.21592987 0.21618034 0.21725736 0.21462743 0.22131397\n",
      " 0.22038281 0.21962728 0.21904317 0.21860343]\n",
      "5 day output [[0.21828003]]\n",
      "6 day input [0.1682154  0.16944271 0.17282405 0.17630557 0.18604884 0.17417658\n",
      " 0.17976205 0.18371947 0.19356293 0.20240451 0.20295554 0.20693801\n",
      " 0.20753914 0.19053225 0.17713212 0.17868503 0.18164058 0.17397621\n",
      " 0.16874139 0.17257358 0.17074515 0.17815905 0.18091421 0.1719474\n",
      " 0.16804008 0.17019411 0.17342517 0.16310582 0.15927364 0.15992486\n",
      " 0.1612273  0.16758923 0.16420789 0.16736381 0.17049468 0.17695679\n",
      " 0.18071384 0.17921102 0.18274264 0.18502192 0.18036318 0.18003757\n",
      " 0.1761052  0.17282405 0.17187226 0.16541014 0.16571071 0.16681277\n",
      " 0.16095178 0.15040701 0.15373826 0.15892298 0.16012523 0.16814026\n",
      " 0.17715717 0.17485285 0.18131497 0.18780213 0.19048215 0.1892799\n",
      " 0.19927364 0.19526612 0.20187852 0.2033062  0.20756418 0.20751409\n",
      " 0.21192235 0.20989355 0.2115717  0.2082154  0.20776456 0.20929242\n",
      " 0.20671259 0.20816531 0.21139637 0.20686287 0.21685661 0.21410144\n",
      " 0.2189856  0.22259236 0.21625548 0.22008766 0.22822793 0.22860363\n",
      " 0.2272511  0.22304321 0.22567314 0.22038823 0.22001252 0.21730745\n",
      " 0.21592987 0.21618034 0.21725736 0.21462743 0.22131397 0.22038281\n",
      " 0.21962728 0.21904317 0.21860343 0.21828003]\n",
      "6 day output [[0.21804993]]\n",
      "7 day input [0.16944271 0.17282405 0.17630557 0.18604884 0.17417658 0.17976205\n",
      " 0.18371947 0.19356293 0.20240451 0.20295554 0.20693801 0.20753914\n",
      " 0.19053225 0.17713212 0.17868503 0.18164058 0.17397621 0.16874139\n",
      " 0.17257358 0.17074515 0.17815905 0.18091421 0.1719474  0.16804008\n",
      " 0.17019411 0.17342517 0.16310582 0.15927364 0.15992486 0.1612273\n",
      " 0.16758923 0.16420789 0.16736381 0.17049468 0.17695679 0.18071384\n",
      " 0.17921102 0.18274264 0.18502192 0.18036318 0.18003757 0.1761052\n",
      " 0.17282405 0.17187226 0.16541014 0.16571071 0.16681277 0.16095178\n",
      " 0.15040701 0.15373826 0.15892298 0.16012523 0.16814026 0.17715717\n",
      " 0.17485285 0.18131497 0.18780213 0.19048215 0.1892799  0.19927364\n",
      " 0.19526612 0.20187852 0.2033062  0.20756418 0.20751409 0.21192235\n",
      " 0.20989355 0.2115717  0.2082154  0.20776456 0.20929242 0.20671259\n",
      " 0.20816531 0.21139637 0.20686287 0.21685661 0.21410144 0.2189856\n",
      " 0.22259236 0.21625548 0.22008766 0.22822793 0.22860363 0.2272511\n",
      " 0.22304321 0.22567314 0.22038823 0.22001252 0.21730745 0.21592987\n",
      " 0.21618034 0.21725736 0.21462743 0.22131397 0.22038281 0.21962728\n",
      " 0.21904317 0.21860343 0.21828003 0.21804993]\n",
      "7 day output [[0.21789518]]\n",
      "8 day input [0.17282405 0.17630557 0.18604884 0.17417658 0.17976205 0.18371947\n",
      " 0.19356293 0.20240451 0.20295554 0.20693801 0.20753914 0.19053225\n",
      " 0.17713212 0.17868503 0.18164058 0.17397621 0.16874139 0.17257358\n",
      " 0.17074515 0.17815905 0.18091421 0.1719474  0.16804008 0.17019411\n",
      " 0.17342517 0.16310582 0.15927364 0.15992486 0.1612273  0.16758923\n",
      " 0.16420789 0.16736381 0.17049468 0.17695679 0.18071384 0.17921102\n",
      " 0.18274264 0.18502192 0.18036318 0.18003757 0.1761052  0.17282405\n",
      " 0.17187226 0.16541014 0.16571071 0.16681277 0.16095178 0.15040701\n",
      " 0.15373826 0.15892298 0.16012523 0.16814026 0.17715717 0.17485285\n",
      " 0.18131497 0.18780213 0.19048215 0.1892799  0.19927364 0.19526612\n",
      " 0.20187852 0.2033062  0.20756418 0.20751409 0.21192235 0.20989355\n",
      " 0.2115717  0.2082154  0.20776456 0.20929242 0.20671259 0.20816531\n",
      " 0.21139637 0.20686287 0.21685661 0.21410144 0.2189856  0.22259236\n",
      " 0.21625548 0.22008766 0.22822793 0.22860363 0.2272511  0.22304321\n",
      " 0.22567314 0.22038823 0.22001252 0.21730745 0.21592987 0.21618034\n",
      " 0.21725736 0.21462743 0.22131397 0.22038281 0.21962728 0.21904317\n",
      " 0.21860343 0.21828003 0.21804993 0.21789518]\n",
      "8 day output [[0.2178012]]\n",
      "9 day input [0.17630557 0.18604884 0.17417658 0.17976205 0.18371947 0.19356293\n",
      " 0.20240451 0.20295554 0.20693801 0.20753914 0.19053225 0.17713212\n",
      " 0.17868503 0.18164058 0.17397621 0.16874139 0.17257358 0.17074515\n",
      " 0.17815905 0.18091421 0.1719474  0.16804008 0.17019411 0.17342517\n",
      " 0.16310582 0.15927364 0.15992486 0.1612273  0.16758923 0.16420789\n",
      " 0.16736381 0.17049468 0.17695679 0.18071384 0.17921102 0.18274264\n",
      " 0.18502192 0.18036318 0.18003757 0.1761052  0.17282405 0.17187226\n",
      " 0.16541014 0.16571071 0.16681277 0.16095178 0.15040701 0.15373826\n",
      " 0.15892298 0.16012523 0.16814026 0.17715717 0.17485285 0.18131497\n",
      " 0.18780213 0.19048215 0.1892799  0.19927364 0.19526612 0.20187852\n",
      " 0.2033062  0.20756418 0.20751409 0.21192235 0.20989355 0.2115717\n",
      " 0.2082154  0.20776456 0.20929242 0.20671259 0.20816531 0.21139637\n",
      " 0.20686287 0.21685661 0.21410144 0.2189856  0.22259236 0.21625548\n",
      " 0.22008766 0.22822793 0.22860363 0.2272511  0.22304321 0.22567314\n",
      " 0.22038823 0.22001252 0.21730745 0.21592987 0.21618034 0.21725736\n",
      " 0.21462743 0.22131397 0.22038281 0.21962728 0.21904317 0.21860343\n",
      " 0.21828003 0.21804993 0.21789518 0.2178012 ]\n",
      "9 day output [[0.2177554]]\n",
      "10 day input [0.18604884 0.17417658 0.17976205 0.18371947 0.19356293 0.20240451\n",
      " 0.20295554 0.20693801 0.20753914 0.19053225 0.17713212 0.17868503\n",
      " 0.18164058 0.17397621 0.16874139 0.17257358 0.17074515 0.17815905\n",
      " 0.18091421 0.1719474  0.16804008 0.17019411 0.17342517 0.16310582\n",
      " 0.15927364 0.15992486 0.1612273  0.16758923 0.16420789 0.16736381\n",
      " 0.17049468 0.17695679 0.18071384 0.17921102 0.18274264 0.18502192\n",
      " 0.18036318 0.18003757 0.1761052  0.17282405 0.17187226 0.16541014\n",
      " 0.16571071 0.16681277 0.16095178 0.15040701 0.15373826 0.15892298\n",
      " 0.16012523 0.16814026 0.17715717 0.17485285 0.18131497 0.18780213\n",
      " 0.19048215 0.1892799  0.19927364 0.19526612 0.20187852 0.2033062\n",
      " 0.20756418 0.20751409 0.21192235 0.20989355 0.2115717  0.2082154\n",
      " 0.20776456 0.20929242 0.20671259 0.20816531 0.21139637 0.20686287\n",
      " 0.21685661 0.21410144 0.2189856  0.22259236 0.21625548 0.22008766\n",
      " 0.22822793 0.22860363 0.2272511  0.22304321 0.22567314 0.22038823\n",
      " 0.22001252 0.21730745 0.21592987 0.21618034 0.21725736 0.21462743\n",
      " 0.22131397 0.22038281 0.21962728 0.21904317 0.21860343 0.21828003\n",
      " 0.21804993 0.21789518 0.2178012  0.21775541]\n",
      "10 day output [[0.21774621]]\n",
      "11 day input [0.17417658 0.17976205 0.18371947 0.19356293 0.20240451 0.20295554\n",
      " 0.20693801 0.20753914 0.19053225 0.17713212 0.17868503 0.18164058\n",
      " 0.17397621 0.16874139 0.17257358 0.17074515 0.17815905 0.18091421\n",
      " 0.1719474  0.16804008 0.17019411 0.17342517 0.16310582 0.15927364\n",
      " 0.15992486 0.1612273  0.16758923 0.16420789 0.16736381 0.17049468\n",
      " 0.17695679 0.18071384 0.17921102 0.18274264 0.18502192 0.18036318\n",
      " 0.18003757 0.1761052  0.17282405 0.17187226 0.16541014 0.16571071\n",
      " 0.16681277 0.16095178 0.15040701 0.15373826 0.15892298 0.16012523\n",
      " 0.16814026 0.17715717 0.17485285 0.18131497 0.18780213 0.19048215\n",
      " 0.1892799  0.19927364 0.19526612 0.20187852 0.2033062  0.20756418\n",
      " 0.20751409 0.21192235 0.20989355 0.2115717  0.2082154  0.20776456\n",
      " 0.20929242 0.20671259 0.20816531 0.21139637 0.20686287 0.21685661\n",
      " 0.21410144 0.2189856  0.22259236 0.21625548 0.22008766 0.22822793\n",
      " 0.22860363 0.2272511  0.22304321 0.22567314 0.22038823 0.22001252\n",
      " 0.21730745 0.21592987 0.21618034 0.21725736 0.21462743 0.22131397\n",
      " 0.22038281 0.21962728 0.21904317 0.21860343 0.21828003 0.21804993\n",
      " 0.21789518 0.2178012  0.21775541 0.21774621]\n",
      "11 day output [[0.21776307]]\n",
      "12 day input [0.17976205 0.18371947 0.19356293 0.20240451 0.20295554 0.20693801\n",
      " 0.20753914 0.19053225 0.17713212 0.17868503 0.18164058 0.17397621\n",
      " 0.16874139 0.17257358 0.17074515 0.17815905 0.18091421 0.1719474\n",
      " 0.16804008 0.17019411 0.17342517 0.16310582 0.15927364 0.15992486\n",
      " 0.1612273  0.16758923 0.16420789 0.16736381 0.17049468 0.17695679\n",
      " 0.18071384 0.17921102 0.18274264 0.18502192 0.18036318 0.18003757\n",
      " 0.1761052  0.17282405 0.17187226 0.16541014 0.16571071 0.16681277\n",
      " 0.16095178 0.15040701 0.15373826 0.15892298 0.16012523 0.16814026\n",
      " 0.17715717 0.17485285 0.18131497 0.18780213 0.19048215 0.1892799\n",
      " 0.19927364 0.19526612 0.20187852 0.2033062  0.20756418 0.20751409\n",
      " 0.21192235 0.20989355 0.2115717  0.2082154  0.20776456 0.20929242\n",
      " 0.20671259 0.20816531 0.21139637 0.20686287 0.21685661 0.21410144\n",
      " 0.2189856  0.22259236 0.21625548 0.22008766 0.22822793 0.22860363\n",
      " 0.2272511  0.22304321 0.22567314 0.22038823 0.22001252 0.21730745\n",
      " 0.21592987 0.21618034 0.21725736 0.21462743 0.22131397 0.22038281\n",
      " 0.21962728 0.21904317 0.21860343 0.21828003 0.21804993 0.21789518\n",
      " 0.2178012  0.21775541 0.21774621 0.21776307]\n",
      "12 day output [[0.21779612]]\n",
      "13 day input [0.18371947 0.19356293 0.20240451 0.20295554 0.20693801 0.20753914\n",
      " 0.19053225 0.17713212 0.17868503 0.18164058 0.17397621 0.16874139\n",
      " 0.17257358 0.17074515 0.17815905 0.18091421 0.1719474  0.16804008\n",
      " 0.17019411 0.17342517 0.16310582 0.15927364 0.15992486 0.1612273\n",
      " 0.16758923 0.16420789 0.16736381 0.17049468 0.17695679 0.18071384\n",
      " 0.17921102 0.18274264 0.18502192 0.18036318 0.18003757 0.1761052\n",
      " 0.17282405 0.17187226 0.16541014 0.16571071 0.16681277 0.16095178\n",
      " 0.15040701 0.15373826 0.15892298 0.16012523 0.16814026 0.17715717\n",
      " 0.17485285 0.18131497 0.18780213 0.19048215 0.1892799  0.19927364\n",
      " 0.19526612 0.20187852 0.2033062  0.20756418 0.20751409 0.21192235\n",
      " 0.20989355 0.2115717  0.2082154  0.20776456 0.20929242 0.20671259\n",
      " 0.20816531 0.21139637 0.20686287 0.21685661 0.21410144 0.2189856\n",
      " 0.22259236 0.21625548 0.22008766 0.22822793 0.22860363 0.2272511\n",
      " 0.22304321 0.22567314 0.22038823 0.22001252 0.21730745 0.21592987\n",
      " 0.21618034 0.21725736 0.21462743 0.22131397 0.22038281 0.21962728\n",
      " 0.21904317 0.21860343 0.21828003 0.21804993 0.21789518 0.2178012\n",
      " 0.21775541 0.21774621 0.21776307 0.21779612]\n",
      "13 day output [[0.21783699]]\n",
      "14 day input [0.19356293 0.20240451 0.20295554 0.20693801 0.20753914 0.19053225\n",
      " 0.17713212 0.17868503 0.18164058 0.17397621 0.16874139 0.17257358\n",
      " 0.17074515 0.17815905 0.18091421 0.1719474  0.16804008 0.17019411\n",
      " 0.17342517 0.16310582 0.15927364 0.15992486 0.1612273  0.16758923\n",
      " 0.16420789 0.16736381 0.17049468 0.17695679 0.18071384 0.17921102\n",
      " 0.18274264 0.18502192 0.18036318 0.18003757 0.1761052  0.17282405\n",
      " 0.17187226 0.16541014 0.16571071 0.16681277 0.16095178 0.15040701\n",
      " 0.15373826 0.15892298 0.16012523 0.16814026 0.17715717 0.17485285\n",
      " 0.18131497 0.18780213 0.19048215 0.1892799  0.19927364 0.19526612\n",
      " 0.20187852 0.2033062  0.20756418 0.20751409 0.21192235 0.20989355\n",
      " 0.2115717  0.2082154  0.20776456 0.20929242 0.20671259 0.20816531\n",
      " 0.21139637 0.20686287 0.21685661 0.21410144 0.2189856  0.22259236\n",
      " 0.21625548 0.22008766 0.22822793 0.22860363 0.2272511  0.22304321\n",
      " 0.22567314 0.22038823 0.22001252 0.21730745 0.21592987 0.21618034\n",
      " 0.21725736 0.21462743 0.22131397 0.22038281 0.21962728 0.21904317\n",
      " 0.21860343 0.21828003 0.21804993 0.21789518 0.2178012  0.21775541\n",
      " 0.21774621 0.21776307 0.21779612 0.21783699]\n",
      "14 day output [[0.21787852]]\n",
      "15 day input [0.20240451 0.20295554 0.20693801 0.20753914 0.19053225 0.17713212\n",
      " 0.17868503 0.18164058 0.17397621 0.16874139 0.17257358 0.17074515\n",
      " 0.17815905 0.18091421 0.1719474  0.16804008 0.17019411 0.17342517\n",
      " 0.16310582 0.15927364 0.15992486 0.1612273  0.16758923 0.16420789\n",
      " 0.16736381 0.17049468 0.17695679 0.18071384 0.17921102 0.18274264\n",
      " 0.18502192 0.18036318 0.18003757 0.1761052  0.17282405 0.17187226\n",
      " 0.16541014 0.16571071 0.16681277 0.16095178 0.15040701 0.15373826\n",
      " 0.15892298 0.16012523 0.16814026 0.17715717 0.17485285 0.18131497\n",
      " 0.18780213 0.19048215 0.1892799  0.19927364 0.19526612 0.20187852\n",
      " 0.2033062  0.20756418 0.20751409 0.21192235 0.20989355 0.2115717\n",
      " 0.2082154  0.20776456 0.20929242 0.20671259 0.20816531 0.21139637\n",
      " 0.20686287 0.21685661 0.21410144 0.2189856  0.22259236 0.21625548\n",
      " 0.22008766 0.22822793 0.22860363 0.2272511  0.22304321 0.22567314\n",
      " 0.22038823 0.22001252 0.21730745 0.21592987 0.21618034 0.21725736\n",
      " 0.21462743 0.22131397 0.22038281 0.21962728 0.21904317 0.21860343\n",
      " 0.21828003 0.21804993 0.21789518 0.2178012  0.21775541 0.21774621\n",
      " 0.21776307 0.21779612 0.21783699 0.21787852]\n",
      "15 day output [[0.2179148]]\n",
      "16 day input [0.20295554 0.20693801 0.20753914 0.19053225 0.17713212 0.17868503\n",
      " 0.18164058 0.17397621 0.16874139 0.17257358 0.17074515 0.17815905\n",
      " 0.18091421 0.1719474  0.16804008 0.17019411 0.17342517 0.16310582\n",
      " 0.15927364 0.15992486 0.1612273  0.16758923 0.16420789 0.16736381\n",
      " 0.17049468 0.17695679 0.18071384 0.17921102 0.18274264 0.18502192\n",
      " 0.18036318 0.18003757 0.1761052  0.17282405 0.17187226 0.16541014\n",
      " 0.16571071 0.16681277 0.16095178 0.15040701 0.15373826 0.15892298\n",
      " 0.16012523 0.16814026 0.17715717 0.17485285 0.18131497 0.18780213\n",
      " 0.19048215 0.1892799  0.19927364 0.19526612 0.20187852 0.2033062\n",
      " 0.20756418 0.20751409 0.21192235 0.20989355 0.2115717  0.2082154\n",
      " 0.20776456 0.20929242 0.20671259 0.20816531 0.21139637 0.20686287\n",
      " 0.21685661 0.21410144 0.2189856  0.22259236 0.21625548 0.22008766\n",
      " 0.22822793 0.22860363 0.2272511  0.22304321 0.22567314 0.22038823\n",
      " 0.22001252 0.21730745 0.21592987 0.21618034 0.21725736 0.21462743\n",
      " 0.22131397 0.22038281 0.21962728 0.21904317 0.21860343 0.21828003\n",
      " 0.21804993 0.21789518 0.2178012  0.21775541 0.21774621 0.21776307\n",
      " 0.21779612 0.21783699 0.21787852 0.2179148 ]\n",
      "16 day output [[0.21794154]]\n",
      "17 day input [0.20693801 0.20753914 0.19053225 0.17713212 0.17868503 0.18164058\n",
      " 0.17397621 0.16874139 0.17257358 0.17074515 0.17815905 0.18091421\n",
      " 0.1719474  0.16804008 0.17019411 0.17342517 0.16310582 0.15927364\n",
      " 0.15992486 0.1612273  0.16758923 0.16420789 0.16736381 0.17049468\n",
      " 0.17695679 0.18071384 0.17921102 0.18274264 0.18502192 0.18036318\n",
      " 0.18003757 0.1761052  0.17282405 0.17187226 0.16541014 0.16571071\n",
      " 0.16681277 0.16095178 0.15040701 0.15373826 0.15892298 0.16012523\n",
      " 0.16814026 0.17715717 0.17485285 0.18131497 0.18780213 0.19048215\n",
      " 0.1892799  0.19927364 0.19526612 0.20187852 0.2033062  0.20756418\n",
      " 0.20751409 0.21192235 0.20989355 0.2115717  0.2082154  0.20776456\n",
      " 0.20929242 0.20671259 0.20816531 0.21139637 0.20686287 0.21685661\n",
      " 0.21410144 0.2189856  0.22259236 0.21625548 0.22008766 0.22822793\n",
      " 0.22860363 0.2272511  0.22304321 0.22567314 0.22038823 0.22001252\n",
      " 0.21730745 0.21592987 0.21618034 0.21725736 0.21462743 0.22131397\n",
      " 0.22038281 0.21962728 0.21904317 0.21860343 0.21828003 0.21804993\n",
      " 0.21789518 0.2178012  0.21775541 0.21774621 0.21776307 0.21779612\n",
      " 0.21783699 0.21787852 0.2179148  0.21794154]\n",
      "17 day output [[0.21795559]]\n",
      "18 day input [0.20753914 0.19053225 0.17713212 0.17868503 0.18164058 0.17397621\n",
      " 0.16874139 0.17257358 0.17074515 0.17815905 0.18091421 0.1719474\n",
      " 0.16804008 0.17019411 0.17342517 0.16310582 0.15927364 0.15992486\n",
      " 0.1612273  0.16758923 0.16420789 0.16736381 0.17049468 0.17695679\n",
      " 0.18071384 0.17921102 0.18274264 0.18502192 0.18036318 0.18003757\n",
      " 0.1761052  0.17282405 0.17187226 0.16541014 0.16571071 0.16681277\n",
      " 0.16095178 0.15040701 0.15373826 0.15892298 0.16012523 0.16814026\n",
      " 0.17715717 0.17485285 0.18131497 0.18780213 0.19048215 0.1892799\n",
      " 0.19927364 0.19526612 0.20187852 0.2033062  0.20756418 0.20751409\n",
      " 0.21192235 0.20989355 0.2115717  0.2082154  0.20776456 0.20929242\n",
      " 0.20671259 0.20816531 0.21139637 0.20686287 0.21685661 0.21410144\n",
      " 0.2189856  0.22259236 0.21625548 0.22008766 0.22822793 0.22860363\n",
      " 0.2272511  0.22304321 0.22567314 0.22038823 0.22001252 0.21730745\n",
      " 0.21592987 0.21618034 0.21725736 0.21462743 0.22131397 0.22038281\n",
      " 0.21962728 0.21904317 0.21860343 0.21828003 0.21804993 0.21789518\n",
      " 0.2178012  0.21775541 0.21774621 0.21776307 0.21779612 0.21783699\n",
      " 0.21787852 0.2179148  0.21794154 0.21795559]\n",
      "18 day output [[0.21795513]]\n",
      "19 day input [0.19053225 0.17713212 0.17868503 0.18164058 0.17397621 0.16874139\n",
      " 0.17257358 0.17074515 0.17815905 0.18091421 0.1719474  0.16804008\n",
      " 0.17019411 0.17342517 0.16310582 0.15927364 0.15992486 0.1612273\n",
      " 0.16758923 0.16420789 0.16736381 0.17049468 0.17695679 0.18071384\n",
      " 0.17921102 0.18274264 0.18502192 0.18036318 0.18003757 0.1761052\n",
      " 0.17282405 0.17187226 0.16541014 0.16571071 0.16681277 0.16095178\n",
      " 0.15040701 0.15373826 0.15892298 0.16012523 0.16814026 0.17715717\n",
      " 0.17485285 0.18131497 0.18780213 0.19048215 0.1892799  0.19927364\n",
      " 0.19526612 0.20187852 0.2033062  0.20756418 0.20751409 0.21192235\n",
      " 0.20989355 0.2115717  0.2082154  0.20776456 0.20929242 0.20671259\n",
      " 0.20816531 0.21139637 0.20686287 0.21685661 0.21410144 0.2189856\n",
      " 0.22259236 0.21625548 0.22008766 0.22822793 0.22860363 0.2272511\n",
      " 0.22304321 0.22567314 0.22038823 0.22001252 0.21730745 0.21592987\n",
      " 0.21618034 0.21725736 0.21462743 0.22131397 0.22038281 0.21962728\n",
      " 0.21904317 0.21860343 0.21828003 0.21804993 0.21789518 0.2178012\n",
      " 0.21775541 0.21774621 0.21776307 0.21779612 0.21783699 0.21787852\n",
      " 0.2179148  0.21794154 0.21795559 0.21795513]\n",
      "19 day output [[0.2179393]]\n",
      "20 day input [0.17713212 0.17868503 0.18164058 0.17397621 0.16874139 0.17257358\n",
      " 0.17074515 0.17815905 0.18091421 0.1719474  0.16804008 0.17019411\n",
      " 0.17342517 0.16310582 0.15927364 0.15992486 0.1612273  0.16758923\n",
      " 0.16420789 0.16736381 0.17049468 0.17695679 0.18071384 0.17921102\n",
      " 0.18274264 0.18502192 0.18036318 0.18003757 0.1761052  0.17282405\n",
      " 0.17187226 0.16541014 0.16571071 0.16681277 0.16095178 0.15040701\n",
      " 0.15373826 0.15892298 0.16012523 0.16814026 0.17715717 0.17485285\n",
      " 0.18131497 0.18780213 0.19048215 0.1892799  0.19927364 0.19526612\n",
      " 0.20187852 0.2033062  0.20756418 0.20751409 0.21192235 0.20989355\n",
      " 0.2115717  0.2082154  0.20776456 0.20929242 0.20671259 0.20816531\n",
      " 0.21139637 0.20686287 0.21685661 0.21410144 0.2189856  0.22259236\n",
      " 0.21625548 0.22008766 0.22822793 0.22860363 0.2272511  0.22304321\n",
      " 0.22567314 0.22038823 0.22001252 0.21730745 0.21592987 0.21618034\n",
      " 0.21725736 0.21462743 0.22131397 0.22038281 0.21962728 0.21904317\n",
      " 0.21860343 0.21828003 0.21804993 0.21789518 0.2178012  0.21775541\n",
      " 0.21774621 0.21776307 0.21779612 0.21783699 0.21787852 0.2179148\n",
      " 0.21794154 0.21795559 0.21795513 0.2179393 ]\n",
      "20 day output [[0.21790797]]\n",
      "21 day input [0.17868503 0.18164058 0.17397621 0.16874139 0.17257358 0.17074515\n",
      " 0.17815905 0.18091421 0.1719474  0.16804008 0.17019411 0.17342517\n",
      " 0.16310582 0.15927364 0.15992486 0.1612273  0.16758923 0.16420789\n",
      " 0.16736381 0.17049468 0.17695679 0.18071384 0.17921102 0.18274264\n",
      " 0.18502192 0.18036318 0.18003757 0.1761052  0.17282405 0.17187226\n",
      " 0.16541014 0.16571071 0.16681277 0.16095178 0.15040701 0.15373826\n",
      " 0.15892298 0.16012523 0.16814026 0.17715717 0.17485285 0.18131497\n",
      " 0.18780213 0.19048215 0.1892799  0.19927364 0.19526612 0.20187852\n",
      " 0.2033062  0.20756418 0.20751409 0.21192235 0.20989355 0.2115717\n",
      " 0.2082154  0.20776456 0.20929242 0.20671259 0.20816531 0.21139637\n",
      " 0.20686287 0.21685661 0.21410144 0.2189856  0.22259236 0.21625548\n",
      " 0.22008766 0.22822793 0.22860363 0.2272511  0.22304321 0.22567314\n",
      " 0.22038823 0.22001252 0.21730745 0.21592987 0.21618034 0.21725736\n",
      " 0.21462743 0.22131397 0.22038281 0.21962728 0.21904317 0.21860343\n",
      " 0.21828003 0.21804993 0.21789518 0.2178012  0.21775541 0.21774621\n",
      " 0.21776307 0.21779612 0.21783699 0.21787852 0.2179148  0.21794154\n",
      " 0.21795559 0.21795513 0.2179393  0.21790797]\n",
      "21 day output [[0.21786204]]\n",
      "22 day input [0.18164058 0.17397621 0.16874139 0.17257358 0.17074515 0.17815905\n",
      " 0.18091421 0.1719474  0.16804008 0.17019411 0.17342517 0.16310582\n",
      " 0.15927364 0.15992486 0.1612273  0.16758923 0.16420789 0.16736381\n",
      " 0.17049468 0.17695679 0.18071384 0.17921102 0.18274264 0.18502192\n",
      " 0.18036318 0.18003757 0.1761052  0.17282405 0.17187226 0.16541014\n",
      " 0.16571071 0.16681277 0.16095178 0.15040701 0.15373826 0.15892298\n",
      " 0.16012523 0.16814026 0.17715717 0.17485285 0.18131497 0.18780213\n",
      " 0.19048215 0.1892799  0.19927364 0.19526612 0.20187852 0.2033062\n",
      " 0.20756418 0.20751409 0.21192235 0.20989355 0.2115717  0.2082154\n",
      " 0.20776456 0.20929242 0.20671259 0.20816531 0.21139637 0.20686287\n",
      " 0.21685661 0.21410144 0.2189856  0.22259236 0.21625548 0.22008766\n",
      " 0.22822793 0.22860363 0.2272511  0.22304321 0.22567314 0.22038823\n",
      " 0.22001252 0.21730745 0.21592987 0.21618034 0.21725736 0.21462743\n",
      " 0.22131397 0.22038281 0.21962728 0.21904317 0.21860343 0.21828003\n",
      " 0.21804993 0.21789518 0.2178012  0.21775541 0.21774621 0.21776307\n",
      " 0.21779612 0.21783699 0.21787852 0.2179148  0.21794154 0.21795559\n",
      " 0.21795513 0.2179393  0.21790797 0.21786204]\n",
      "22 day output [[0.21780276]]\n",
      "23 day input [0.17397621 0.16874139 0.17257358 0.17074515 0.17815905 0.18091421\n",
      " 0.1719474  0.16804008 0.17019411 0.17342517 0.16310582 0.15927364\n",
      " 0.15992486 0.1612273  0.16758923 0.16420789 0.16736381 0.17049468\n",
      " 0.17695679 0.18071384 0.17921102 0.18274264 0.18502192 0.18036318\n",
      " 0.18003757 0.1761052  0.17282405 0.17187226 0.16541014 0.16571071\n",
      " 0.16681277 0.16095178 0.15040701 0.15373826 0.15892298 0.16012523\n",
      " 0.16814026 0.17715717 0.17485285 0.18131497 0.18780213 0.19048215\n",
      " 0.1892799  0.19927364 0.19526612 0.20187852 0.2033062  0.20756418\n",
      " 0.20751409 0.21192235 0.20989355 0.2115717  0.2082154  0.20776456\n",
      " 0.20929242 0.20671259 0.20816531 0.21139637 0.20686287 0.21685661\n",
      " 0.21410144 0.2189856  0.22259236 0.21625548 0.22008766 0.22822793\n",
      " 0.22860363 0.2272511  0.22304321 0.22567314 0.22038823 0.22001252\n",
      " 0.21730745 0.21592987 0.21618034 0.21725736 0.21462743 0.22131397\n",
      " 0.22038281 0.21962728 0.21904317 0.21860343 0.21828003 0.21804993\n",
      " 0.21789518 0.2178012  0.21775541 0.21774621 0.21776307 0.21779612\n",
      " 0.21783699 0.21787852 0.2179148  0.21794154 0.21795559 0.21795513\n",
      " 0.2179393  0.21790797 0.21786204 0.21780276]\n",
      "23 day output [[0.21773188]]\n",
      "24 day input [0.16874139 0.17257358 0.17074515 0.17815905 0.18091421 0.1719474\n",
      " 0.16804008 0.17019411 0.17342517 0.16310582 0.15927364 0.15992486\n",
      " 0.1612273  0.16758923 0.16420789 0.16736381 0.17049468 0.17695679\n",
      " 0.18071384 0.17921102 0.18274264 0.18502192 0.18036318 0.18003757\n",
      " 0.1761052  0.17282405 0.17187226 0.16541014 0.16571071 0.16681277\n",
      " 0.16095178 0.15040701 0.15373826 0.15892298 0.16012523 0.16814026\n",
      " 0.17715717 0.17485285 0.18131497 0.18780213 0.19048215 0.1892799\n",
      " 0.19927364 0.19526612 0.20187852 0.2033062  0.20756418 0.20751409\n",
      " 0.21192235 0.20989355 0.2115717  0.2082154  0.20776456 0.20929242\n",
      " 0.20671259 0.20816531 0.21139637 0.20686287 0.21685661 0.21410144\n",
      " 0.2189856  0.22259236 0.21625548 0.22008766 0.22822793 0.22860363\n",
      " 0.2272511  0.22304321 0.22567314 0.22038823 0.22001252 0.21730745\n",
      " 0.21592987 0.21618034 0.21725736 0.21462743 0.22131397 0.22038281\n",
      " 0.21962728 0.21904317 0.21860343 0.21828003 0.21804993 0.21789518\n",
      " 0.2178012  0.21775541 0.21774621 0.21776307 0.21779612 0.21783699\n",
      " 0.21787852 0.2179148  0.21794154 0.21795559 0.21795513 0.2179393\n",
      " 0.21790797 0.21786204 0.21780276 0.21773188]\n",
      "24 day output [[0.21765119]]\n",
      "25 day input [0.17257358 0.17074515 0.17815905 0.18091421 0.1719474  0.16804008\n",
      " 0.17019411 0.17342517 0.16310582 0.15927364 0.15992486 0.1612273\n",
      " 0.16758923 0.16420789 0.16736381 0.17049468 0.17695679 0.18071384\n",
      " 0.17921102 0.18274264 0.18502192 0.18036318 0.18003757 0.1761052\n",
      " 0.17282405 0.17187226 0.16541014 0.16571071 0.16681277 0.16095178\n",
      " 0.15040701 0.15373826 0.15892298 0.16012523 0.16814026 0.17715717\n",
      " 0.17485285 0.18131497 0.18780213 0.19048215 0.1892799  0.19927364\n",
      " 0.19526612 0.20187852 0.2033062  0.20756418 0.20751409 0.21192235\n",
      " 0.20989355 0.2115717  0.2082154  0.20776456 0.20929242 0.20671259\n",
      " 0.20816531 0.21139637 0.20686287 0.21685661 0.21410144 0.2189856\n",
      " 0.22259236 0.21625548 0.22008766 0.22822793 0.22860363 0.2272511\n",
      " 0.22304321 0.22567314 0.22038823 0.22001252 0.21730745 0.21592987\n",
      " 0.21618034 0.21725736 0.21462743 0.22131397 0.22038281 0.21962728\n",
      " 0.21904317 0.21860343 0.21828003 0.21804993 0.21789518 0.2178012\n",
      " 0.21775541 0.21774621 0.21776307 0.21779612 0.21783699 0.21787852\n",
      " 0.2179148  0.21794154 0.21795559 0.21795513 0.2179393  0.21790797\n",
      " 0.21786204 0.21780276 0.21773188 0.21765119]\n",
      "25 day output [[0.21756262]]\n",
      "26 day input [0.17074515 0.17815905 0.18091421 0.1719474  0.16804008 0.17019411\n",
      " 0.17342517 0.16310582 0.15927364 0.15992486 0.1612273  0.16758923\n",
      " 0.16420789 0.16736381 0.17049468 0.17695679 0.18071384 0.17921102\n",
      " 0.18274264 0.18502192 0.18036318 0.18003757 0.1761052  0.17282405\n",
      " 0.17187226 0.16541014 0.16571071 0.16681277 0.16095178 0.15040701\n",
      " 0.15373826 0.15892298 0.16012523 0.16814026 0.17715717 0.17485285\n",
      " 0.18131497 0.18780213 0.19048215 0.1892799  0.19927364 0.19526612\n",
      " 0.20187852 0.2033062  0.20756418 0.20751409 0.21192235 0.20989355\n",
      " 0.2115717  0.2082154  0.20776456 0.20929242 0.20671259 0.20816531\n",
      " 0.21139637 0.20686287 0.21685661 0.21410144 0.2189856  0.22259236\n",
      " 0.21625548 0.22008766 0.22822793 0.22860363 0.2272511  0.22304321\n",
      " 0.22567314 0.22038823 0.22001252 0.21730745 0.21592987 0.21618034\n",
      " 0.21725736 0.21462743 0.22131397 0.22038281 0.21962728 0.21904317\n",
      " 0.21860343 0.21828003 0.21804993 0.21789518 0.2178012  0.21775541\n",
      " 0.21774621 0.21776307 0.21779612 0.21783699 0.21787852 0.2179148\n",
      " 0.21794154 0.21795559 0.21795513 0.2179393  0.21790797 0.21786204\n",
      " 0.21780276 0.21773188 0.21765119 0.21756262]\n",
      "26 day output [[0.21746832]]\n",
      "27 day input [0.17815905 0.18091421 0.1719474  0.16804008 0.17019411 0.17342517\n",
      " 0.16310582 0.15927364 0.15992486 0.1612273  0.16758923 0.16420789\n",
      " 0.16736381 0.17049468 0.17695679 0.18071384 0.17921102 0.18274264\n",
      " 0.18502192 0.18036318 0.18003757 0.1761052  0.17282405 0.17187226\n",
      " 0.16541014 0.16571071 0.16681277 0.16095178 0.15040701 0.15373826\n",
      " 0.15892298 0.16012523 0.16814026 0.17715717 0.17485285 0.18131497\n",
      " 0.18780213 0.19048215 0.1892799  0.19927364 0.19526612 0.20187852\n",
      " 0.2033062  0.20756418 0.20751409 0.21192235 0.20989355 0.2115717\n",
      " 0.2082154  0.20776456 0.20929242 0.20671259 0.20816531 0.21139637\n",
      " 0.20686287 0.21685661 0.21410144 0.2189856  0.22259236 0.21625548\n",
      " 0.22008766 0.22822793 0.22860363 0.2272511  0.22304321 0.22567314\n",
      " 0.22038823 0.22001252 0.21730745 0.21592987 0.21618034 0.21725736\n",
      " 0.21462743 0.22131397 0.22038281 0.21962728 0.21904317 0.21860343\n",
      " 0.21828003 0.21804993 0.21789518 0.2178012  0.21775541 0.21774621\n",
      " 0.21776307 0.21779612 0.21783699 0.21787852 0.2179148  0.21794154\n",
      " 0.21795559 0.21795513 0.2179393  0.21790797 0.21786204 0.21780276\n",
      " 0.21773188 0.21765119 0.21756262 0.21746832]\n",
      "27 day output [[0.21737021]]\n",
      "28 day input [0.18091421 0.1719474  0.16804008 0.17019411 0.17342517 0.16310582\n",
      " 0.15927364 0.15992486 0.1612273  0.16758923 0.16420789 0.16736381\n",
      " 0.17049468 0.17695679 0.18071384 0.17921102 0.18274264 0.18502192\n",
      " 0.18036318 0.18003757 0.1761052  0.17282405 0.17187226 0.16541014\n",
      " 0.16571071 0.16681277 0.16095178 0.15040701 0.15373826 0.15892298\n",
      " 0.16012523 0.16814026 0.17715717 0.17485285 0.18131497 0.18780213\n",
      " 0.19048215 0.1892799  0.19927364 0.19526612 0.20187852 0.2033062\n",
      " 0.20756418 0.20751409 0.21192235 0.20989355 0.2115717  0.2082154\n",
      " 0.20776456 0.20929242 0.20671259 0.20816531 0.21139637 0.20686287\n",
      " 0.21685661 0.21410144 0.2189856  0.22259236 0.21625548 0.22008766\n",
      " 0.22822793 0.22860363 0.2272511  0.22304321 0.22567314 0.22038823\n",
      " 0.22001252 0.21730745 0.21592987 0.21618034 0.21725736 0.21462743\n",
      " 0.22131397 0.22038281 0.21962728 0.21904317 0.21860343 0.21828003\n",
      " 0.21804993 0.21789518 0.2178012  0.21775541 0.21774621 0.21776307\n",
      " 0.21779612 0.21783699 0.21787852 0.2179148  0.21794154 0.21795559\n",
      " 0.21795513 0.2179393  0.21790797 0.21786204 0.21780276 0.21773188\n",
      " 0.21765119 0.21756262 0.21746832 0.21737021]\n",
      "28 day output [[0.21727026]]\n",
      "29 day input [0.1719474  0.16804008 0.17019411 0.17342517 0.16310582 0.15927364\n",
      " 0.15992486 0.1612273  0.16758923 0.16420789 0.16736381 0.17049468\n",
      " 0.17695679 0.18071384 0.17921102 0.18274264 0.18502192 0.18036318\n",
      " 0.18003757 0.1761052  0.17282405 0.17187226 0.16541014 0.16571071\n",
      " 0.16681277 0.16095178 0.15040701 0.15373826 0.15892298 0.16012523\n",
      " 0.16814026 0.17715717 0.17485285 0.18131497 0.18780213 0.19048215\n",
      " 0.1892799  0.19927364 0.19526612 0.20187852 0.2033062  0.20756418\n",
      " 0.20751409 0.21192235 0.20989355 0.2115717  0.2082154  0.20776456\n",
      " 0.20929242 0.20671259 0.20816531 0.21139637 0.20686287 0.21685661\n",
      " 0.21410144 0.2189856  0.22259236 0.21625548 0.22008766 0.22822793\n",
      " 0.22860363 0.2272511  0.22304321 0.22567314 0.22038823 0.22001252\n",
      " 0.21730745 0.21592987 0.21618034 0.21725736 0.21462743 0.22131397\n",
      " 0.22038281 0.21962728 0.21904317 0.21860343 0.21828003 0.21804993\n",
      " 0.21789518 0.2178012  0.21775541 0.21774621 0.21776307 0.21779612\n",
      " 0.21783699 0.21787852 0.2179148  0.21794154 0.21795559 0.21795513\n",
      " 0.2179393  0.21790797 0.21786204 0.21780276 0.21773188 0.21765119\n",
      " 0.21756262 0.21746832 0.21737021 0.21727026]\n",
      "29 day output [[0.21717001]]\n",
      "[[0.2213139683008194], [0.22038280963897705], [0.2196272760629654], [0.21904316544532776], [0.21860343217849731], [0.21828003227710724], [0.21804992854595184], [0.21789517998695374], [0.21780119836330414], [0.21775540709495544], [0.21774621307849884], [0.21776306629180908], [0.21779611706733704], [0.21783699095249176], [0.217878520488739], [0.21791480481624603], [0.2179415374994278], [0.2179555892944336], [0.21795512735843658], [0.21793930232524872], [0.21790796518325806], [0.21786203980445862], [0.2178027629852295], [0.21773187816143036], [0.21765118837356567], [0.21756261587142944], [0.21746832132339478], [0.21737021207809448], [0.21727025508880615], [0.21717001497745514]]\n"
     ]
    }
   ],
   "source": [
    "# demonstrate prediction for next 10 days\n",
    "from numpy import array\n",
    "\n",
    "lst_output=[]\n",
    "n_steps=100\n",
    "i=0\n",
    "while(i<30):\n",
    "    \n",
    "    if(len(forecast_input)>100):\n",
    "        #print(temp_input)\n",
    "        x_input=np.array(forecast_input[1:])\n",
    "        print(\"{} day input {}\".format(i,x_input))\n",
    "        x_input=x_input.reshape(1,-1)\n",
    "        x_input = x_input.reshape((1, n_steps, 1))\n",
    "        #print(x_input)\n",
    "        yhat = model.predict(x_input, verbose=0)\n",
    "        print(\"{} day output {}\".format(i,yhat))\n",
    "        forecast_input.extend(yhat[0].tolist())\n",
    "        forecast_input=forecast_input[1:]\n",
    "        #print(temp_input)\n",
    "        lst_output.extend(yhat.tolist())\n",
    "        i=i+1\n",
    "    else:\n",
    "        x_input = x_input.reshape((1, n_steps,1))\n",
    "        yhat = model.predict(x_input, verbose=0)\n",
    "        print(yhat[0])\n",
    "        forecast_input.extend(yhat[0].tolist())\n",
    "        print(len(forecast_input))\n",
    "        lst_output.extend(yhat.tolist())\n",
    "        i=i+1\n",
    "    \n",
    "\n",
    "print(lst_output)"
   ]
  },
  {
   "cell_type": "code",
   "execution_count": 48,
   "id": "b66f241b-2113-4256-b531-327e7c7527e3",
   "metadata": {},
   "outputs": [],
   "source": [
    "day_new=np.arange(1,101)\n",
    "day_pred=np.arange(101,131)"
   ]
  },
  {
   "cell_type": "code",
   "execution_count": 49,
   "id": "9a977d63-f2a9-4a6a-9135-938d9beced3c",
   "metadata": {},
   "outputs": [
    {
     "data": {
      "text/plain": [
       "1006"
      ]
     },
     "execution_count": 49,
     "metadata": {},
     "output_type": "execute_result"
    }
   ],
   "source": [
    "len(df1)"
   ]
  },
  {
   "cell_type": "code",
   "execution_count": 51,
   "id": "edd69796-1362-4acb-8648-4460468ef404",
   "metadata": {},
   "outputs": [
    {
     "data": {
      "image/png": "[encoded data removed]",
      "text/plain": [
       "<Figure size 640x480 with 1 Axes>"
      ]
     },
     "metadata": {},
     "output_type": "display_data"
    }
   ],
   "source": [
    "plt.plot(day_new,scaler.inverse_transform(df1[906:]), label='previous data')\n",
    "plt.plot(day_pred,scaler.inverse_transform(lst_output), label='forecasted data')\n",
    "plt.legend()\n",
    "plt.show()"
   ]
  },
  {
   "cell_type": "code",
   "execution_count": 52,
   "id": "bb66593f-9448-4bf9-9c2c-c7e5bfef1ba9",
   "metadata": {},
   "outputs": [
    {
     "data": {
      "text/plain": [
       "[<matplotlib.lines.Line2D at 0x1402fb510>]"
      ]
     },
     "execution_count": 52,
     "metadata": {},
     "output_type": "execute_result"
    },
    {
     "data": {
      "image/png": "[encoded data removed]",
      "text/plain": [
       "<Figure size 640x480 with 1 Axes>"
      ]
     },
     "metadata": {},
     "output_type": "display_data"
    }
   ],
   "source": [
    "## showing in terms of continous data\n",
    "df3=df1.tolist()\n",
    "df3.extend(lst_output)\n",
    "plt.plot(df3[956:])"
   ]
  },
  {
   "cell_type": "code",
   "execution_count": 56,
   "id": "b93394b9-76db-4c96-922f-f99236cba41d",
   "metadata": {},
   "outputs": [
    {
     "data": {
      "text/plain": [
       "[<matplotlib.lines.Line2D at 0x14039e050>]"
      ]
     },
     "execution_count": 56,
     "metadata": {},
     "output_type": "execute_result"
    },
    {
     "data": {
      "image/png": "[encoded data removed]",
      "text/plain": [
       "<Figure size 640x480 with 1 Axes>"
      ]
     },
     "metadata": {},
     "output_type": "display_data"
    }
   ],
   "source": [
    "## plotting the real values of the previous given and the forecasted data\n",
    "df3=scaler.inverse_transform(df3).tolist()\n",
    "plt.xlabel('day')\n",
    "plt.ylabel('stock price')\n",
    "plt.plot(df3)"
   ]
  },
  {
   "cell_type": "code",
   "execution_count": null,
   "id": "b415b8f2-be6e-466b-8b34-0f06d8204178",
   "metadata": {},
   "outputs": [],
   "source": []
  }
 ],
 "metadata": {
  "kernelspec": {
   "display_name": "Python 3 (ipykernel)",
   "language": "python",
   "name": "python3"
  },
  "language_info": {
   "codemirror_mode": {
    "name": "ipython",
    "version": 3
   },
   "file_extension": ".py",
   "mimetype": "text/x-python",
   "name": "python",
   "nbconvert_exporter": "python",
   "pygments_lexer": "ipython3",
   "version": "3.11.4"
  }
 },
 "nbformat": 4,
 "nbformat_minor": 5
}
